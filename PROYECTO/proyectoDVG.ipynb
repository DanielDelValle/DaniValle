{
 "metadata": {
  "language_info": {
   "codemirror_mode": {
    "name": "ipython",
    "version": 3
   },
   "file_extension": ".py",
   "mimetype": "text/x-python",
   "name": "python",
   "nbconvert_exporter": "python",
   "pygments_lexer": "ipython3",
   "version": "3.9.1-final"
  },
  "orig_nbformat": 2,
  "kernelspec": {
   "name": "python3",
   "display_name": "Python 3.9.1 64-bit",
   "metadata": {
    "interpreter": {
     "hash": "ac59ebe37160ed0dfa835113d9b8498d9f09ceb179beaac4002f036b9467c963"
    }
   }
  }
 },
 "nbformat": 4,
 "nbformat_minor": 2,
 "cells": [
  {
   "cell_type": "code",
   "execution_count": 1,
   "metadata": {},
   "outputs": [
    {
     "output_type": "execute_result",
     "data": {
      "text/plain": [
       "        country  year     sex          age  suicides_no  population\n",
       "0       Albania  1985  female  15-24 years          NaN    277900.0\n",
       "1       Albania  1985  female  25-34 years          NaN    246800.0\n",
       "2       Albania  1985  female  35-54 years          NaN    267500.0\n",
       "3       Albania  1985  female   5-14 years          NaN    298300.0\n",
       "4       Albania  1985  female  55-74 years          NaN    138700.0\n",
       "...         ...   ...     ...          ...          ...         ...\n",
       "43771  Zimbabwe  1990    male  25-34 years        150.0         NaN\n",
       "43772  Zimbabwe  1990    male  35-54 years        132.0         NaN\n",
       "43773  Zimbabwe  1990    male   5-14 years          6.0         NaN\n",
       "43774  Zimbabwe  1990    male  55-74 years         74.0         NaN\n",
       "43775  Zimbabwe  1990    male    75+ years         13.0         NaN\n",
       "\n",
       "[43776 rows x 6 columns]"
      ],
      "text/html": "<div>\n<style scoped>\n    .dataframe tbody tr th:only-of-type {\n        vertical-align: middle;\n    }\n\n    .dataframe tbody tr th {\n        vertical-align: top;\n    }\n\n    .dataframe thead th {\n        text-align: right;\n    }\n</style>\n<table border=\"1\" class=\"dataframe\">\n  <thead>\n    <tr style=\"text-align: right;\">\n      <th></th>\n      <th>country</th>\n      <th>year</th>\n      <th>sex</th>\n      <th>age</th>\n      <th>suicides_no</th>\n      <th>population</th>\n    </tr>\n  </thead>\n  <tbody>\n    <tr>\n      <th>0</th>\n      <td>Albania</td>\n      <td>1985</td>\n      <td>female</td>\n      <td>15-24 years</td>\n      <td>NaN</td>\n      <td>277900.0</td>\n    </tr>\n    <tr>\n      <th>1</th>\n      <td>Albania</td>\n      <td>1985</td>\n      <td>female</td>\n      <td>25-34 years</td>\n      <td>NaN</td>\n      <td>246800.0</td>\n    </tr>\n    <tr>\n      <th>2</th>\n      <td>Albania</td>\n      <td>1985</td>\n      <td>female</td>\n      <td>35-54 years</td>\n      <td>NaN</td>\n      <td>267500.0</td>\n    </tr>\n    <tr>\n      <th>3</th>\n      <td>Albania</td>\n      <td>1985</td>\n      <td>female</td>\n      <td>5-14 years</td>\n      <td>NaN</td>\n      <td>298300.0</td>\n    </tr>\n    <tr>\n      <th>4</th>\n      <td>Albania</td>\n      <td>1985</td>\n      <td>female</td>\n      <td>55-74 years</td>\n      <td>NaN</td>\n      <td>138700.0</td>\n    </tr>\n    <tr>\n      <th>...</th>\n      <td>...</td>\n      <td>...</td>\n      <td>...</td>\n      <td>...</td>\n      <td>...</td>\n      <td>...</td>\n    </tr>\n    <tr>\n      <th>43771</th>\n      <td>Zimbabwe</td>\n      <td>1990</td>\n      <td>male</td>\n      <td>25-34 years</td>\n      <td>150.0</td>\n      <td>NaN</td>\n    </tr>\n    <tr>\n      <th>43772</th>\n      <td>Zimbabwe</td>\n      <td>1990</td>\n      <td>male</td>\n      <td>35-54 years</td>\n      <td>132.0</td>\n      <td>NaN</td>\n    </tr>\n    <tr>\n      <th>43773</th>\n      <td>Zimbabwe</td>\n      <td>1990</td>\n      <td>male</td>\n      <td>5-14 years</td>\n      <td>6.0</td>\n      <td>NaN</td>\n    </tr>\n    <tr>\n      <th>43774</th>\n      <td>Zimbabwe</td>\n      <td>1990</td>\n      <td>male</td>\n      <td>55-74 years</td>\n      <td>74.0</td>\n      <td>NaN</td>\n    </tr>\n    <tr>\n      <th>43775</th>\n      <td>Zimbabwe</td>\n      <td>1990</td>\n      <td>male</td>\n      <td>75+ years</td>\n      <td>13.0</td>\n      <td>NaN</td>\n    </tr>\n  </tbody>\n</table>\n<p>43776 rows × 6 columns</p>\n</div>"
     },
     "metadata": {},
     "execution_count": 1
    }
   ],
   "source": [
    "import pandas as pd\n",
    "import numpy as np\n",
    "import seaborn as sns\n",
    "import matplotlib as mp\n",
    "import random\n",
    "\n",
    "suicide = pd.read_csv(\"who_suicide_statistics.csv\")\n",
    "suicide"
   ]
  },
  {
   "cell_type": "code",
   "execution_count": 5,
   "metadata": {},
   "outputs": [
    {
     "output_type": "error",
     "ename": "AttributeError",
     "evalue": "module 'seaborn' has no attribute 'hist'",
     "traceback": [
      "\u001b[1;31m---------------------------------------------------------------------------\u001b[0m",
      "\u001b[1;31mAttributeError\u001b[0m                            Traceback (most recent call last)",
      "\u001b[1;32m<ipython-input-5-71946b3103ce>\u001b[0m in \u001b[0;36m<module>\u001b[1;34m\u001b[0m\n\u001b[1;32m----> 1\u001b[1;33m \u001b[0msns\u001b[0m\u001b[1;33m.\u001b[0m\u001b[0mhist\u001b[0m\u001b[1;33m(\u001b[0m\u001b[0msuicide\u001b[0m\u001b[1;33m.\u001b[0m\u001b[0myear\u001b[0m\u001b[1;33m)\u001b[0m\u001b[1;33m\u001b[0m\u001b[1;33m\u001b[0m\u001b[0m\n\u001b[0m",
      "\u001b[1;31mAttributeError\u001b[0m: module 'seaborn' has no attribute 'hist'"
     ]
    }
   ],
   "source": []
  },
  {
   "cell_type": "code",
   "execution_count": null,
   "metadata": {},
   "outputs": [],
   "source": []
  }
 ]
}