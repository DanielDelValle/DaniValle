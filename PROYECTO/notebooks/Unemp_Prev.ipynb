{
 "metadata": {
  "language_info": {
   "codemirror_mode": {
    "name": "ipython",
    "version": 3
   },
   "file_extension": ".py",
   "mimetype": "text/x-python",
   "name": "python",
   "nbconvert_exporter": "python",
   "pygments_lexer": "ipython3",
   "version": "3.9.1-final"
  },
  "orig_nbformat": 2,
  "kernelspec": {
   "name": "python3",
   "display_name": "Python 3.9.1 64-bit",
   "metadata": {
    "interpreter": {
     "hash": "ac59ebe37160ed0dfa835113d9b8498d9f09ceb179beaac4002f036b9467c963"
    }
   }
  }
 },
 "nbformat": 4,
 "nbformat_minor": 2,
 "cells": [
  {
   "cell_type": "code",
   "execution_count": null,
   "metadata": {},
   "outputs": [],
   "source": [
    "import pandas as pd\n",
    "import numpy as np\n",
    "import seaborn as sns\n",
    "import matplotlib.pyplot as plt"
   ]
  },
  {
   "cell_type": "code",
   "execution_count": null,
   "metadata": {},
   "outputs": [],
   "source": [
    "unemployment = pd.read_csv(\"..\\\\documentation\\\\unemployment_all_ratio.csv\")                             \n",
    "\n",
    "unemp = unemployment.loc[unemployment['Series'] == \"Unemployment rate\"]                                 #selecting only values of interest(unemployment rate only)\n",
    "unemp = unemp[~unemp.Country.str.contains(\"OECD\", na=False)]                                     #discarding groups of countries(no info in the suicide dataframe)\n",
    "\n",
    "unemp = unemp.rename(columns={'SEX': 'Gender', 'Value':'Unemploy_Rate', \"Time\": \"Year\"})         #renaming columns for better understanding and according to the other dataframe\n",
    "unemp = unemp[['Country', 'Gender', 'Age', 'Year', 'Unemploy_Rate']]                             #selecting only needed columns\n",
    "\n",
    "unemp.columns = [x.lower() for x in unemp.columns]                                               #normalising columns names                                                      \n",
    "\n",
    "unemp.loc[unemp['gender'] == \"MW\", 'gender'] = \"both\"\n",
    "unemp.loc[unemp['gender'] == \"MEN\", 'gender'] = \"male\"\n",
    "unemp.loc[unemp['gender'] == \"WOMEN\", 'gender'] = \"female\"\n",
    "\n",
    "unemp.set_index('country', inplace=True)\n",
    "\n",
    "unemp.columns"
   ]
  },
  {
   "cell_type": "code",
   "execution_count": null,
   "metadata": {},
   "outputs": [],
   "source": [
    "ax = plt.gca()\n",
    "unemp.plot(kind='bar',x='gender',y='unemploy_rate',ax=ax)\n",
    "unemp.plot(kind='line',x='gender',y='year', color='red', ax=ax)"
   ]
  },
  {
   "cell_type": "code",
   "execution_count": null,
   "metadata": {},
   "outputs": [],
   "source": []
  }
 ]
}