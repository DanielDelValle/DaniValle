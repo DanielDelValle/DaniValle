{
 "metadata": {
  "language_info": {
   "codemirror_mode": {
    "name": "ipython",
    "version": 3
   },
   "file_extension": ".py",
   "mimetype": "text/x-python",
   "name": "python",
   "nbconvert_exporter": "python",
   "pygments_lexer": "ipython3",
   "version": "3.9.1-final"
  },
  "orig_nbformat": 2,
  "kernelspec": {
   "name": "python3",
   "display_name": "Python 3.9.1 64-bit",
   "metadata": {
    "interpreter": {
     "hash": "ac59ebe37160ed0dfa835113d9b8498d9f09ceb179beaac4002f036b9467c963"
    }
   }
  }
 },
 "nbformat": 4,
 "nbformat_minor": 2,
 "cells": [
  {
   "cell_type": "markdown",
   "metadata": {},
   "source": [
    "Crea un programa que, llamando a una función clean_df(path), lea un archivo leíble por pandas, lo transforme a dataframe y lo limpie si es posible. \n",
    "\n",
    "La función clean_df() retornará el dataframe limpiado."
   ]
  },
  {
   "cell_type": "code",
   "execution_count": 1,
   "metadata": {},
   "outputs": [],
   "source": [
    "import pandas as pd\n",
    "import json"
   ]
  },
  {
   "cell_type": "code",
   "execution_count": 2,
   "metadata": {},
   "outputs": [],
   "source": [
    "def clean_df(path):\n",
    "    for x in path:\n",
    "        if path[-3:] == 'csv':\n",
    "            df= pd.read_csv(path)\n",
    "        elif path[-4:] == 'xlsx':\n",
    "            df = pd.read_excel(path)\n",
    "        elif path[-4:] == 'json':            \n",
    "            with open(path, \"r\") as json_file_readed:\n",
    "                df = pd.DataFrame(json.load(json_file_readed))\n",
    "        else: \n",
    "            print('Please use csv / json / xlsx files only')\n",
    "    return (df)"
   ]
  },
  {
   "cell_type": "markdown",
   "metadata": {},
   "source": [
    "En la función clean_df:\n",
    "\n",
    "- path: representa la ubicación o url de donde pandas lee el archivo a cargar."
   ]
  },
  {
   "cell_type": "code",
   "execution_count": 3,
   "metadata": {},
   "outputs": [
    {
     "output_type": "execute_result",
     "data": {
      "text/plain": [
       "          year  n_v_averages\n",
       "0   2020-12-29        4300.0\n",
       "1   2020-12-30       30000.0\n",
       "2   2020-12-31       11300.0\n",
       "3   2021-01-03         442.0\n",
       "4   2021-01-04       41387.0\n",
       "5   2021-01-05       52255.5\n",
       "6   2021-01-06       20133.0\n",
       "7   2021-01-07       28597.0\n",
       "8   2021-01-08       40242.0\n",
       "9   2021-01-09        1235.0\n",
       "10  2021-01-10        3031.0\n",
       "11  2021-01-11       54781.0\n",
       "12  2021-01-12       66908.5\n",
       "13  2021-01-13       76554.0\n",
       "14  2021-01-14       67908.0\n",
       "15  2021-01-15       59623.5\n",
       "16  2021-01-16       20340.0\n",
       "17  2021-01-17       12163.0\n",
       "18  2021-01-18       25698.0"
      ],
      "text/html": "<div>\n<style scoped>\n    .dataframe tbody tr th:only-of-type {\n        vertical-align: middle;\n    }\n\n    .dataframe tbody tr th {\n        vertical-align: top;\n    }\n\n    .dataframe thead th {\n        text-align: right;\n    }\n</style>\n<table border=\"1\" class=\"dataframe\">\n  <thead>\n    <tr style=\"text-align: right;\">\n      <th></th>\n      <th>year</th>\n      <th>n_v_averages</th>\n    </tr>\n  </thead>\n  <tbody>\n    <tr>\n      <th>0</th>\n      <td>2020-12-29</td>\n      <td>4300.0</td>\n    </tr>\n    <tr>\n      <th>1</th>\n      <td>2020-12-30</td>\n      <td>30000.0</td>\n    </tr>\n    <tr>\n      <th>2</th>\n      <td>2020-12-31</td>\n      <td>11300.0</td>\n    </tr>\n    <tr>\n      <th>3</th>\n      <td>2021-01-03</td>\n      <td>442.0</td>\n    </tr>\n    <tr>\n      <th>4</th>\n      <td>2021-01-04</td>\n      <td>41387.0</td>\n    </tr>\n    <tr>\n      <th>5</th>\n      <td>2021-01-05</td>\n      <td>52255.5</td>\n    </tr>\n    <tr>\n      <th>6</th>\n      <td>2021-01-06</td>\n      <td>20133.0</td>\n    </tr>\n    <tr>\n      <th>7</th>\n      <td>2021-01-07</td>\n      <td>28597.0</td>\n    </tr>\n    <tr>\n      <th>8</th>\n      <td>2021-01-08</td>\n      <td>40242.0</td>\n    </tr>\n    <tr>\n      <th>9</th>\n      <td>2021-01-09</td>\n      <td>1235.0</td>\n    </tr>\n    <tr>\n      <th>10</th>\n      <td>2021-01-10</td>\n      <td>3031.0</td>\n    </tr>\n    <tr>\n      <th>11</th>\n      <td>2021-01-11</td>\n      <td>54781.0</td>\n    </tr>\n    <tr>\n      <th>12</th>\n      <td>2021-01-12</td>\n      <td>66908.5</td>\n    </tr>\n    <tr>\n      <th>13</th>\n      <td>2021-01-13</td>\n      <td>76554.0</td>\n    </tr>\n    <tr>\n      <th>14</th>\n      <td>2021-01-14</td>\n      <td>67908.0</td>\n    </tr>\n    <tr>\n      <th>15</th>\n      <td>2021-01-15</td>\n      <td>59623.5</td>\n    </tr>\n    <tr>\n      <th>16</th>\n      <td>2021-01-16</td>\n      <td>20340.0</td>\n    </tr>\n    <tr>\n      <th>17</th>\n      <td>2021-01-17</td>\n      <td>12163.0</td>\n    </tr>\n    <tr>\n      <th>18</th>\n      <td>2021-01-18</td>\n      <td>25698.0</td>\n    </tr>\n  </tbody>\n</table>\n</div>"
     },
     "metadata": {},
     "execution_count": 3
    }
   ],
   "source": [
    "clean_df('C:\\\\DATA_SCIENCE\\\\covid_group_project\\\\resources\\\\json_own.json')"
   ]
  },
  {
   "cell_type": "code",
   "execution_count": null,
   "metadata": {},
   "outputs": [],
   "source": []
  }
 ]
}