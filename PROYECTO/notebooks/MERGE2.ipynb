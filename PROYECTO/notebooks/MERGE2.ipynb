{
 "metadata": {
  "language_info": {
   "codemirror_mode": {
    "name": "ipython",
    "version": 3
   },
   "file_extension": ".py",
   "mimetype": "text/x-python",
   "name": "python",
   "nbconvert_exporter": "python",
   "pygments_lexer": "ipython3",
   "version": "3.9.1-final"
  },
  "orig_nbformat": 2,
  "kernelspec": {
   "name": "python3",
   "display_name": "Python 3.9.1 64-bit",
   "metadata": {
    "interpreter": {
     "hash": "ac59ebe37160ed0dfa835113d9b8498d9f09ceb179beaac4002f036b9467c963"
    }
   }
  }
 },
 "nbformat": 4,
 "nbformat_minor": 2,
 "cells": [
  {
   "cell_type": "code",
   "execution_count": 1,
   "metadata": {},
   "outputs": [],
   "source": [
    "import pandas as pd\n",
    "import numpy as np"
   ]
  },
  {
   "cell_type": "code",
   "execution_count": 4,
   "metadata": {},
   "outputs": [
    {
     "output_type": "error",
     "ename": "ModuleNotFoundError",
     "evalue": "No module named 'Unemployment'",
     "traceback": [
      "\u001b[1;31m---------------------------------------------------------------------------\u001b[0m",
      "\u001b[1;31mModuleNotFoundError\u001b[0m                       Traceback (most recent call last)",
      "\u001b[1;32m<ipython-input-4-4bf270f24e60>\u001b[0m in \u001b[0;36m<module>\u001b[1;34m\u001b[0m\n\u001b[1;32m----> 1\u001b[1;33m \u001b[1;32mfrom\u001b[0m \u001b[0mUnemployment\u001b[0m \u001b[1;32mimport\u001b[0m \u001b[0munemp\u001b[0m\u001b[1;33m\u001b[0m\u001b[1;33m\u001b[0m\u001b[0m\n\u001b[0m\u001b[0;32m      2\u001b[0m \u001b[1;32mfrom\u001b[0m \u001b[0mSuicide\u001b[0m \u001b[1;32mimport\u001b[0m \u001b[0msuic\u001b[0m\u001b[1;33m\u001b[0m\u001b[1;33m\u001b[0m\u001b[0m\n",
      "\u001b[1;31mModuleNotFoundError\u001b[0m: No module named 'Unemployment'"
     ]
    }
   ],
   "source": [
    "from Unemployment import unemp\n",
    "from Suicide import suic"
   ]
  },
  {
   "cell_type": "code",
   "execution_count": 8,
   "metadata": {},
   "outputs": [],
   "source": [
    "x = pd.merge(suic, unemp, on=\"country\")"
   ]
  },
  {
   "cell_type": "code",
   "execution_count": 9,
   "metadata": {},
   "outputs": [
    {
     "output_type": "execute_result",
     "data": {
      "text/plain": [
       "                year_x gender_x        age_x  suicides_no  population  \\\n",
       "country                                                                 \n",
       "Australia         2000   female  15-24 years         78.0   1285283.0   \n",
       "Australia         2000   female  15-24 years         78.0   1285283.0   \n",
       "Australia         2000   female  15-24 years         78.0   1285283.0   \n",
       "Australia         2000   female  15-24 years         78.0   1285283.0   \n",
       "Australia         2000   female  15-24 years         78.0   1285283.0   \n",
       "...                ...      ...          ...          ...         ...   \n",
       "United Kingdom    2016     male    75+ years          NaN   2235650.0   \n",
       "United Kingdom    2016     male    75+ years          NaN   2235650.0   \n",
       "United Kingdom    2016     male    75+ years          NaN   2235650.0   \n",
       "United Kingdom    2016     male    75+ years          NaN   2235650.0   \n",
       "United Kingdom    2016     male    75+ years          NaN   2235650.0   \n",
       "\n",
       "                suic_rate_100k gender_y     age_y  year_y  unemploy_rate  \n",
       "country                                                                   \n",
       "Australia             6.068702       MW  15 to 19    2000      49.215684  \n",
       "Australia             6.068702       MW  15 to 19    2001      49.416769  \n",
       "Australia             6.068702       MW  15 to 19    2002      49.012172  \n",
       "Australia             6.068702       MW  15 to 19    2003      49.897541  \n",
       "Australia             6.068702       MW  15 to 19    2004      50.394122  \n",
       "...                        ...      ...       ...     ...            ...  \n",
       "United Kingdom             NaN    WOMEN     Total    2015       5.105224  \n",
       "United Kingdom             NaN    WOMEN     Total    2016       4.742915  \n",
       "United Kingdom             NaN    WOMEN     Total    2017       4.210591  \n",
       "United Kingdom             NaN    WOMEN     Total    2018       4.097872  \n",
       "United Kingdom             NaN    WOMEN     Total    2019       3.635548  \n",
       "\n",
       "[27412330 rows x 10 columns]"
      ],
      "text/html": "<div>\n<style scoped>\n    .dataframe tbody tr th:only-of-type {\n        vertical-align: middle;\n    }\n\n    .dataframe tbody tr th {\n        vertical-align: top;\n    }\n\n    .dataframe thead th {\n        text-align: right;\n    }\n</style>\n<table border=\"1\" class=\"dataframe\">\n  <thead>\n    <tr style=\"text-align: right;\">\n      <th></th>\n      <th>year_x</th>\n      <th>gender_x</th>\n      <th>age_x</th>\n      <th>suicides_no</th>\n      <th>population</th>\n      <th>suic_rate_100k</th>\n      <th>gender_y</th>\n      <th>age_y</th>\n      <th>year_y</th>\n      <th>unemploy_rate</th>\n    </tr>\n    <tr>\n      <th>country</th>\n      <th></th>\n      <th></th>\n      <th></th>\n      <th></th>\n      <th></th>\n      <th></th>\n      <th></th>\n      <th></th>\n      <th></th>\n      <th></th>\n    </tr>\n  </thead>\n  <tbody>\n    <tr>\n      <th>Australia</th>\n      <td>2000</td>\n      <td>female</td>\n      <td>15-24 years</td>\n      <td>78.0</td>\n      <td>1285283.0</td>\n      <td>6.068702</td>\n      <td>MW</td>\n      <td>15 to 19</td>\n      <td>2000</td>\n      <td>49.215684</td>\n    </tr>\n    <tr>\n      <th>Australia</th>\n      <td>2000</td>\n      <td>female</td>\n      <td>15-24 years</td>\n      <td>78.0</td>\n      <td>1285283.0</td>\n      <td>6.068702</td>\n      <td>MW</td>\n      <td>15 to 19</td>\n      <td>2001</td>\n      <td>49.416769</td>\n    </tr>\n    <tr>\n      <th>Australia</th>\n      <td>2000</td>\n      <td>female</td>\n      <td>15-24 years</td>\n      <td>78.0</td>\n      <td>1285283.0</td>\n      <td>6.068702</td>\n      <td>MW</td>\n      <td>15 to 19</td>\n      <td>2002</td>\n      <td>49.012172</td>\n    </tr>\n    <tr>\n      <th>Australia</th>\n      <td>2000</td>\n      <td>female</td>\n      <td>15-24 years</td>\n      <td>78.0</td>\n      <td>1285283.0</td>\n      <td>6.068702</td>\n      <td>MW</td>\n      <td>15 to 19</td>\n      <td>2003</td>\n      <td>49.897541</td>\n    </tr>\n    <tr>\n      <th>Australia</th>\n      <td>2000</td>\n      <td>female</td>\n      <td>15-24 years</td>\n      <td>78.0</td>\n      <td>1285283.0</td>\n      <td>6.068702</td>\n      <td>MW</td>\n      <td>15 to 19</td>\n      <td>2004</td>\n      <td>50.394122</td>\n    </tr>\n    <tr>\n      <th>...</th>\n      <td>...</td>\n      <td>...</td>\n      <td>...</td>\n      <td>...</td>\n      <td>...</td>\n      <td>...</td>\n      <td>...</td>\n      <td>...</td>\n      <td>...</td>\n      <td>...</td>\n    </tr>\n    <tr>\n      <th>United Kingdom</th>\n      <td>2016</td>\n      <td>male</td>\n      <td>75+ years</td>\n      <td>NaN</td>\n      <td>2235650.0</td>\n      <td>NaN</td>\n      <td>WOMEN</td>\n      <td>Total</td>\n      <td>2015</td>\n      <td>5.105224</td>\n    </tr>\n    <tr>\n      <th>United Kingdom</th>\n      <td>2016</td>\n      <td>male</td>\n      <td>75+ years</td>\n      <td>NaN</td>\n      <td>2235650.0</td>\n      <td>NaN</td>\n      <td>WOMEN</td>\n      <td>Total</td>\n      <td>2016</td>\n      <td>4.742915</td>\n    </tr>\n    <tr>\n      <th>United Kingdom</th>\n      <td>2016</td>\n      <td>male</td>\n      <td>75+ years</td>\n      <td>NaN</td>\n      <td>2235650.0</td>\n      <td>NaN</td>\n      <td>WOMEN</td>\n      <td>Total</td>\n      <td>2017</td>\n      <td>4.210591</td>\n    </tr>\n    <tr>\n      <th>United Kingdom</th>\n      <td>2016</td>\n      <td>male</td>\n      <td>75+ years</td>\n      <td>NaN</td>\n      <td>2235650.0</td>\n      <td>NaN</td>\n      <td>WOMEN</td>\n      <td>Total</td>\n      <td>2018</td>\n      <td>4.097872</td>\n    </tr>\n    <tr>\n      <th>United Kingdom</th>\n      <td>2016</td>\n      <td>male</td>\n      <td>75+ years</td>\n      <td>NaN</td>\n      <td>2235650.0</td>\n      <td>NaN</td>\n      <td>WOMEN</td>\n      <td>Total</td>\n      <td>2019</td>\n      <td>3.635548</td>\n    </tr>\n  </tbody>\n</table>\n<p>27412330 rows × 10 columns</p>\n</div>"
     },
     "metadata": {},
     "execution_count": 9
    }
   ],
   "source": [
    "x"
   ]
  },
  {
   "cell_type": "code",
   "execution_count": null,
   "metadata": {},
   "outputs": [],
   "source": []
  }
 ]
}