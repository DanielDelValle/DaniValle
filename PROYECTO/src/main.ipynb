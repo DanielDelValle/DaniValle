{
 "metadata": {
  "language_info": {
   "codemirror_mode": {
    "name": "ipython",
    "version": 3
   },
   "file_extension": ".py",
   "mimetype": "text/x-python",
   "name": "python",
   "nbconvert_exporter": "python",
   "pygments_lexer": "ipython3",
   "version": "3.9.1-final"
  },
  "orig_nbformat": 2,
  "kernelspec": {
   "name": "python3",
   "display_name": "Python 3.9.1 64-bit",
   "metadata": {
    "interpreter": {
     "hash": "ac59ebe37160ed0dfa835113d9b8498d9f09ceb179beaac4002f036b9467c963"
    }
   }
  }
 },
 "nbformat": 4,
 "nbformat_minor": 2,
 "cells": [
  {
   "source": [
    "# E.D.A.: CORRELATION BETWEEN  UNEMPLOYMENT & SUICIDE RATES IN 43 COUNTRIES FROM 2000 TO 2016  \n",
    "By Daniel Del Valle González  2020-2021"
   ],
   "cell_type": "markdown",
   "metadata": {}
  },
  {
   "source": [
    "## STEP 1 - DATA CLEANING & NORMALISING\n",
    "## STEP 2 - DATA ANALISYS & TENDENCIES. TOP & BOTTOM COUNTRIES IN SUICIDE & UNEMPLOYMENT RATES\n",
    "## STEP 3 - GRAPHIC VISUALISATION OF EACH DATAFRAME TENDENCIES"
   ],
   "cell_type": "markdown",
   "metadata": {}
  },
  {
   "source": [
    "## STEP 1 - DATA CLEANING & NORMALISING"
   ],
   "cell_type": "markdown",
   "metadata": {}
  },
  {
   "source": [
    "### We got 2 csv from:   \n",
    "1 - https://www.kaggle.com/szamil/who-suicide-statistics csv for suicides from 2000.  \n",
    "2 - https://stats.oecd.org/Index.aspx?QueryId=64198# csv for unemployment rates. I selected and added some countries that by defect were not included.  \n",
    "\n",
    "We create 2 DataFrames from them:"
   ],
   "cell_type": "markdown",
   "metadata": {}
  },
  {
   "cell_type": "code",
   "execution_count": 1,
   "metadata": {},
   "outputs": [],
   "source": [
    "import pandas as pd\n",
    "import numpy as np\n",
    "from utils.folders_tb import *\n",
    "from utils.mining_data_tb import *\n",
    "from utils.visualization_tb import *"
   ]
  },
  {
   "source": [
    "## Both had to be cleaned and \"synchronised\" in many ways:"
   ],
   "cell_type": "markdown",
   "metadata": {}
  },
  {
   "cell_type": "code",
   "execution_count": 2,
   "metadata": {},
   "outputs": [],
   "source": [
    "suicide = pd.read_csv(\"C:\\\\DATA_SCIENCE\\\\PROYECTO\\\\documentation\\\\who_suicide_statistics.csv\")\n",
    "unemployment = pd.read_csv(\"C:\\\\DATA_SCIENCE\\\\PROYECTO\\\\documentation\\\\unemployment_all_ratio.csv\")"
   ]
  },
  {
   "cell_type": "code",
   "execution_count": 3,
   "metadata": {},
   "outputs": [],
   "source": [
    "suic, unemp = intersector(df1=suicide, df2=unemployment, col1=\"country\", col2=\"Country\")      #creating dataframes with data about only their shared countries"
   ]
  },
  {
   "source": [
    "### Unemployment CSV also included \"employment rate\" and other values (columns). We only select those regarding to \"unemployment rate\""
   ],
   "cell_type": "markdown",
   "metadata": {}
  },
  {
   "cell_type": "code",
   "execution_count": 4,
   "metadata": {},
   "outputs": [],
   "source": [
    "unemp = only_desired(df=unemp, col1=\"Series\", desired=\"Unemployment rate\")  #selecting onlye \"unemployment\" stadistic values"
   ]
  },
  {
   "source": [
    "### Unemployment DataFrame had some groups of countries that did not appear on the Suicides Rates DataFrame, so are discarded."
   ],
   "cell_type": "markdown",
   "metadata": {}
  },
  {
   "cell_type": "code",
   "execution_count": 5,
   "metadata": {},
   "outputs": [],
   "source": [
    "unemp = str_discarder(unemp, \"Country\", \"OECD\")                              #discarding groups of countries(no info in the other dataframe)\n",
    "unemp = str_discarder(unemp, \"Country\", \"Euro\")"
   ]
  },
  {
   "source": [
    "### Columns and values from both dataframes are to be renamed with similar names to allow easy contrast"
   ],
   "cell_type": "markdown",
   "metadata": {}
  },
  {
   "cell_type": "code",
   "execution_count": 6,
   "metadata": {},
   "outputs": [],
   "source": [
    "unemp = column_renamer(unemp, ['SEX', 'Value', 'Time'], ['Gender', 'Unemploy_Rate', 'Year'])\n",
    "suic = column_renamer(suic, ['sex'], ['gender'])"
   ]
  },
  {
   "cell_type": "code",
   "execution_count": 7,
   "metadata": {},
   "outputs": [],
   "source": [
    "unemp = unemp[['Country', 'Gender', 'Age', 'Year', 'Unemploy_Rate']]      #selection only useful columns in uneployment dataframe"
   ]
  },
  {
   "cell_type": "code",
   "execution_count": 8,
   "metadata": {},
   "outputs": [],
   "source": [
    "column_lower(suic)                                                        #normalising columns names\n",
    "column_lower(unemp)                                                                    "
   ]
  },
  {
   "cell_type": "code",
   "execution_count": 9,
   "metadata": {},
   "outputs": [],
   "source": [
    "value_renamer(unemp, \"gender\", \"MEN\", \"male\")                             #normalising \"gender\" column formats   \n",
    "value_renamer(unemp, \"gender\", \"WOMEN\", \"female\")"
   ]
  },
  {
   "cell_type": "code",
   "execution_count": 10,
   "metadata": {},
   "outputs": [],
   "source": [
    "value_discarder(unemp, \"gender\", \"MW\") #discarding MW values as they are ambiguous, unaccurate summatories\"\"\""
   ]
  },
  {
   "cell_type": "code",
   "execution_count": 11,
   "metadata": {},
   "outputs": [],
   "source": [
    "str_replacer(unemp, \"age\", \" to \", \"-\")"
   ]
  },
  {
   "cell_type": "code",
   "execution_count": 12,
   "metadata": {},
   "outputs": [],
   "source": [
    "str_cleaner(suic, \"age\", \"years \")"
   ]
  },
  {
   "source": [
    "### Dataframes had data in different years ranges, so we had to cut them to fit:"
   ],
   "cell_type": "markdown",
   "metadata": {}
  },
  {
   "cell_type": "code",
   "execution_count": 13,
   "metadata": {},
   "outputs": [],
   "source": [
    "unemp = unemp[unemp['year'] <= 2016]\n",
    "suic = suic[suic['year'] >= 2000]"
   ]
  },
  {
   "source": [
    "### On the \"age\" columns the ranges where different (fewer and broader in Suicides Df, narrower in Unemployment Df. Synchronisation was not an easy task)"
   ],
   "cell_type": "markdown",
   "metadata": {}
  },
  {
   "cell_type": "code",
   "execution_count": 14,
   "metadata": {},
   "outputs": [],
   "source": [
    "unemp = unemp[(unemp['age'] == '15-24') | (unemp['age'] == '25-34') |(unemp['age'] == '35-44') |(unemp['age'] == '45-54') | (unemp['age'] == '55-64') |(unemp['age'] == '65-69') | (unemp['age'] == '70-74')]\n"
   ]
  },
  {
   "cell_type": "code",
   "execution_count": 15,
   "metadata": {},
   "outputs": [],
   "source": [
    "unemp = unemp[(unemp['age'] == '15-24') | (unemp['age'] == '25-34') |(unemp['age'] == '35-44') |(unemp['age'] == '45-54') | (unemp['age'] == '55-64') |(unemp['age'] == '65-69') | (unemp['age'] == '70-74')]                                                                                               #discarding duplicated age ranges(some are include inside others) \n",
    "\n",
    "unemp.loc[(unemp[\"age\"] == '35-44') | (unemp[\"age\"] == '45-54'), 'age'] = '35-54'                                  #merging smaller ranges into a bigg one (and common with my other csv)\n",
    "unemp.loc[(unemp[\"age\"] == '55-64') | (unemp[\"age\"] == '65-69') | (unemp[\"age\"] == '70-74'), 'age'] = \"55-74\""
   ]
  },
  {
   "source": [
    "## STEP 2 - DATA ANALISYS & TENDENCIES. TOP & BOTTOM COUNTRIES IN SUICIDE & UNEMPLOYMENT RATES"
   ],
   "cell_type": "markdown",
   "metadata": {}
  },
  {
   "source": [
    "### Suicide is stadistically more common visualised in \"suicides rate per 100.000 people\", so we create a column regarding that measure:"
   ],
   "cell_type": "markdown",
   "metadata": {}
  },
  {
   "cell_type": "code",
   "execution_count": 16,
   "metadata": {},
   "outputs": [],
   "source": [
    "add_ratio(suic, \"suic_100k\", \"suicides_no\", \"population\", 100000, 2)   #creating a column with desired value; just 2 decimals is enough"
   ]
  },
  {
   "source": [
    "### Then we create some sub-dataframes with info centered in Age: "
   ],
   "cell_type": "markdown",
   "metadata": {}
  },
  {
   "cell_type": "code",
   "execution_count": 20,
   "metadata": {},
   "outputs": [],
   "source": [
    "aggregation_functions = {'suic_100k': 'mean'}                                       #creating agg functions to make it faster when grouping tables\n",
    "aggregation_functions2 = {'unemploy_rate': 'mean'}"
   ]
  },
  {
   "cell_type": "code",
   "execution_count": 21,
   "metadata": {},
   "outputs": [],
   "source": [
    "suic_ages_mean = suic.groupby(suic['age']).aggregate(aggregation_functions).sort_values(\"suic_100k\",ascending=False).round(2)"
   ]
  },
  {
   "cell_type": "code",
   "execution_count": 22,
   "metadata": {},
   "outputs": [],
   "source": [
    "unemp_ages_mean = unemp.groupby('age').aggregate(aggregation_functions2).sort_values(\"unemploy_rate\", ascending=False).round(2)"
   ]
  },
  {
   "source": [
    "### Also we create some sub-dataframes with info centered in distribution per Country:"
   ],
   "cell_type": "markdown",
   "metadata": {}
  },
  {
   "cell_type": "code",
   "execution_count": 23,
   "metadata": {},
   "outputs": [],
   "source": [
    "suic_countries_mean = suic.groupby('country').aggregate(aggregation_functions).sort_values(\"suic_100k\",ascending=True).round(2)"
   ]
  },
  {
   "cell_type": "code",
   "execution_count": 24,
   "metadata": {},
   "outputs": [],
   "source": [
    "unemp_countries_mean = unemp.groupby('country').aggregate(aggregation_functions2).sort_values(\"unemploy_rate\", ascending=False).round(2)"
   ]
  },
  {
   "cell_type": "code",
   "execution_count": 25,
   "metadata": {},
   "outputs": [],
   "source": [
    "most_per_100k = suic_countries_mean.sort_values(\"suic_100k\", ascending=False).round(2).head()\n",
    "least_per_100k = suic_countries_mean.sort_values(\"suic_100k\", ascending=False).round(2).tail()"
   ]
  },
  {
   "cell_type": "code",
   "execution_count": 26,
   "metadata": {},
   "outputs": [],
   "source": [
    "most_of_all = suic.groupby(\"country\").sum().sort_values(\"suicides_no\", ascending=False).head()                #top and bottom countries for absolute number of suicides\n",
    "least_of_all = suic.groupby(\"country\").sum().sort_values(\"suicides_no\", ascending=False).tail()"
   ]
  },
  {
   "cell_type": "code",
   "execution_count": 27,
   "metadata": {},
   "outputs": [],
   "source": [
    "most_unemp = unemp_countries_mean.sort_values(\"unemploy_rate\", ascending=False).round(2).head(5)               #top and bottom countries for unemployment rate\n",
    "least_unemp = unemp_countries_mean.sort_values(\"unemploy_rate\", ascending=False).round(2).tail(5)"
   ]
  },
  {
   "source": [
    "### Suicide countries of Interest:"
   ],
   "cell_type": "markdown",
   "metadata": {}
  },
  {
   "cell_type": "code",
   "execution_count": 28,
   "metadata": {},
   "outputs": [],
   "source": [
    "suic_pivot = pd.pivot_table(suic, index = ['country', 'year'], values = ['suicides_no', 'suic_100k']).round(2)"
   ]
  },
  {
   "cell_type": "code",
   "execution_count": 29,
   "metadata": {},
   "outputs": [
    {
     "output_type": "execute_result",
     "data": {
      "text/plain": [
       "      suic_100k  suicides_no\n",
       "year                        \n",
       "2000      47.65       135.92\n",
       "2001      47.42       127.75\n",
       "2002      46.30       129.25\n",
       "2003      44.21       121.25\n",
       "2004      41.95       115.00\n",
       "2005      40.48       109.92\n",
       "2006      33.38        87.42\n",
       "2007      33.90        85.42\n",
       "2008      35.84        92.58\n",
       "2009      36.42        94.83\n",
       "2010      32.94        84.83\n",
       "2011      33.97        84.83\n",
       "2012      31.18        77.25\n",
       "2013      37.05        90.42\n",
       "2014      33.44        77.50\n",
       "2015      32.12        74.67\n",
       "2016      30.38        68.83"
      ],
      "text/html": "<div>\n<style scoped>\n    .dataframe tbody tr th:only-of-type {\n        vertical-align: middle;\n    }\n\n    .dataframe tbody tr th {\n        vertical-align: top;\n    }\n\n    .dataframe thead th {\n        text-align: right;\n    }\n</style>\n<table border=\"1\" class=\"dataframe\">\n  <thead>\n    <tr style=\"text-align: right;\">\n      <th></th>\n      <th>suic_100k</th>\n      <th>suicides_no</th>\n    </tr>\n    <tr>\n      <th>year</th>\n      <th></th>\n      <th></th>\n    </tr>\n  </thead>\n  <tbody>\n    <tr>\n      <th>2000</th>\n      <td>47.65</td>\n      <td>135.92</td>\n    </tr>\n    <tr>\n      <th>2001</th>\n      <td>47.42</td>\n      <td>127.75</td>\n    </tr>\n    <tr>\n      <th>2002</th>\n      <td>46.30</td>\n      <td>129.25</td>\n    </tr>\n    <tr>\n      <th>2003</th>\n      <td>44.21</td>\n      <td>121.25</td>\n    </tr>\n    <tr>\n      <th>2004</th>\n      <td>41.95</td>\n      <td>115.00</td>\n    </tr>\n    <tr>\n      <th>2005</th>\n      <td>40.48</td>\n      <td>109.92</td>\n    </tr>\n    <tr>\n      <th>2006</th>\n      <td>33.38</td>\n      <td>87.42</td>\n    </tr>\n    <tr>\n      <th>2007</th>\n      <td>33.90</td>\n      <td>85.42</td>\n    </tr>\n    <tr>\n      <th>2008</th>\n      <td>35.84</td>\n      <td>92.58</td>\n    </tr>\n    <tr>\n      <th>2009</th>\n      <td>36.42</td>\n      <td>94.83</td>\n    </tr>\n    <tr>\n      <th>2010</th>\n      <td>32.94</td>\n      <td>84.83</td>\n    </tr>\n    <tr>\n      <th>2011</th>\n      <td>33.97</td>\n      <td>84.83</td>\n    </tr>\n    <tr>\n      <th>2012</th>\n      <td>31.18</td>\n      <td>77.25</td>\n    </tr>\n    <tr>\n      <th>2013</th>\n      <td>37.05</td>\n      <td>90.42</td>\n    </tr>\n    <tr>\n      <th>2014</th>\n      <td>33.44</td>\n      <td>77.50</td>\n    </tr>\n    <tr>\n      <th>2015</th>\n      <td>32.12</td>\n      <td>74.67</td>\n    </tr>\n    <tr>\n      <th>2016</th>\n      <td>30.38</td>\n      <td>68.83</td>\n    </tr>\n  </tbody>\n</table>\n</div>"
     },
     "metadata": {},
     "execution_count": 29
    }
   ],
   "source": [
    "lt_su = suic_pivot.loc[\"Lithuania\"]\n",
    "lt_su"
   ]
  },
  {
   "cell_type": "code",
   "execution_count": 30,
   "metadata": {},
   "outputs": [
    {
     "output_type": "execute_result",
     "data": {
      "text/plain": [
       "      suic_100k  suicides_no\n",
       "year                        \n",
       "2000      42.04      4718.25\n",
       "2001      42.05      4746.50\n",
       "2002      40.71      4585.33\n",
       "2003      39.08      4287.08\n",
       "2004      37.30      4091.33\n",
       "2005      35.03      3816.83\n",
       "2006      33.44      3551.17\n",
       "2007      32.25      3429.08\n",
       "2008      30.57      3184.25\n",
       "2009      29.40      3117.33\n",
       "2010      26.60      2779.67\n",
       "2011      24.97      2586.50\n",
       "2012      23.79      2470.25\n",
       "2013      22.83      2390.83\n",
       "2014      21.60      2211.75\n",
       "2015      19.74      2119.33"
      ],
      "text/html": "<div>\n<style scoped>\n    .dataframe tbody tr th:only-of-type {\n        vertical-align: middle;\n    }\n\n    .dataframe tbody tr th {\n        vertical-align: top;\n    }\n\n    .dataframe thead th {\n        text-align: right;\n    }\n</style>\n<table border=\"1\" class=\"dataframe\">\n  <thead>\n    <tr style=\"text-align: right;\">\n      <th></th>\n      <th>suic_100k</th>\n      <th>suicides_no</th>\n    </tr>\n    <tr>\n      <th>year</th>\n      <th></th>\n      <th></th>\n    </tr>\n  </thead>\n  <tbody>\n    <tr>\n      <th>2000</th>\n      <td>42.04</td>\n      <td>4718.25</td>\n    </tr>\n    <tr>\n      <th>2001</th>\n      <td>42.05</td>\n      <td>4746.50</td>\n    </tr>\n    <tr>\n      <th>2002</th>\n      <td>40.71</td>\n      <td>4585.33</td>\n    </tr>\n    <tr>\n      <th>2003</th>\n      <td>39.08</td>\n      <td>4287.08</td>\n    </tr>\n    <tr>\n      <th>2004</th>\n      <td>37.30</td>\n      <td>4091.33</td>\n    </tr>\n    <tr>\n      <th>2005</th>\n      <td>35.03</td>\n      <td>3816.83</td>\n    </tr>\n    <tr>\n      <th>2006</th>\n      <td>33.44</td>\n      <td>3551.17</td>\n    </tr>\n    <tr>\n      <th>2007</th>\n      <td>32.25</td>\n      <td>3429.08</td>\n    </tr>\n    <tr>\n      <th>2008</th>\n      <td>30.57</td>\n      <td>3184.25</td>\n    </tr>\n    <tr>\n      <th>2009</th>\n      <td>29.40</td>\n      <td>3117.33</td>\n    </tr>\n    <tr>\n      <th>2010</th>\n      <td>26.60</td>\n      <td>2779.67</td>\n    </tr>\n    <tr>\n      <th>2011</th>\n      <td>24.97</td>\n      <td>2586.50</td>\n    </tr>\n    <tr>\n      <th>2012</th>\n      <td>23.79</td>\n      <td>2470.25</td>\n    </tr>\n    <tr>\n      <th>2013</th>\n      <td>22.83</td>\n      <td>2390.83</td>\n    </tr>\n    <tr>\n      <th>2014</th>\n      <td>21.60</td>\n      <td>2211.75</td>\n    </tr>\n    <tr>\n      <th>2015</th>\n      <td>19.74</td>\n      <td>2119.33</td>\n    </tr>\n  </tbody>\n</table>\n</div>"
     },
     "metadata": {},
     "execution_count": 30
    }
   ],
   "source": [
    "ru_su = suic_pivot.loc[\"Russian Federation\"]\n",
    "ru_su"
   ]
  },
  {
   "cell_type": "code",
   "execution_count": 31,
   "metadata": {},
   "outputs": [
    {
     "output_type": "execute_result",
     "data": {
      "text/plain": [
       "      suic_100k  suicides_no\n",
       "year                        \n",
       "2000       0.80        22.25\n",
       "2001       1.04        32.00\n",
       "2002       0.58        19.67\n",
       "2003       0.77        21.33\n",
       "2004       1.05        31.92\n",
       "2005       1.27        38.17\n",
       "2006       1.49        42.83\n",
       "2007       1.01        34.75\n",
       "2008       1.18        36.75\n",
       "2009       0.89        31.00\n",
       "2010       1.09        32.75\n",
       "2011       0.78        29.83\n",
       "2012       1.13        40.58\n",
       "2013       1.24        48.92\n",
       "2014       1.26        48.33\n",
       "2015       1.08        40.17"
      ],
      "text/html": "<div>\n<style scoped>\n    .dataframe tbody tr th:only-of-type {\n        vertical-align: middle;\n    }\n\n    .dataframe tbody tr th {\n        vertical-align: top;\n    }\n\n    .dataframe thead th {\n        text-align: right;\n    }\n</style>\n<table border=\"1\" class=\"dataframe\">\n  <thead>\n    <tr style=\"text-align: right;\">\n      <th></th>\n      <th>suic_100k</th>\n      <th>suicides_no</th>\n    </tr>\n    <tr>\n      <th>year</th>\n      <th></th>\n      <th></th>\n    </tr>\n  </thead>\n  <tbody>\n    <tr>\n      <th>2000</th>\n      <td>0.80</td>\n      <td>22.25</td>\n    </tr>\n    <tr>\n      <th>2001</th>\n      <td>1.04</td>\n      <td>32.00</td>\n    </tr>\n    <tr>\n      <th>2002</th>\n      <td>0.58</td>\n      <td>19.67</td>\n    </tr>\n    <tr>\n      <th>2003</th>\n      <td>0.77</td>\n      <td>21.33</td>\n    </tr>\n    <tr>\n      <th>2004</th>\n      <td>1.05</td>\n      <td>31.92</td>\n    </tr>\n    <tr>\n      <th>2005</th>\n      <td>1.27</td>\n      <td>38.17</td>\n    </tr>\n    <tr>\n      <th>2006</th>\n      <td>1.49</td>\n      <td>42.83</td>\n    </tr>\n    <tr>\n      <th>2007</th>\n      <td>1.01</td>\n      <td>34.75</td>\n    </tr>\n    <tr>\n      <th>2008</th>\n      <td>1.18</td>\n      <td>36.75</td>\n    </tr>\n    <tr>\n      <th>2009</th>\n      <td>0.89</td>\n      <td>31.00</td>\n    </tr>\n    <tr>\n      <th>2010</th>\n      <td>1.09</td>\n      <td>32.75</td>\n    </tr>\n    <tr>\n      <th>2011</th>\n      <td>0.78</td>\n      <td>29.83</td>\n    </tr>\n    <tr>\n      <th>2012</th>\n      <td>1.13</td>\n      <td>40.58</td>\n    </tr>\n    <tr>\n      <th>2013</th>\n      <td>1.24</td>\n      <td>48.92</td>\n    </tr>\n    <tr>\n      <th>2014</th>\n      <td>1.26</td>\n      <td>48.33</td>\n    </tr>\n    <tr>\n      <th>2015</th>\n      <td>1.08</td>\n      <td>40.17</td>\n    </tr>\n  </tbody>\n</table>\n</div>"
     },
     "metadata": {},
     "execution_count": 31
    }
   ],
   "source": [
    "sa_su = suic_pivot.loc[\"South Africa\"]\n",
    "sa_su"
   ]
  },
  {
   "source": [
    "### Unemployment countries of Interest:"
   ],
   "cell_type": "markdown",
   "metadata": {}
  },
  {
   "cell_type": "code",
   "execution_count": 32,
   "metadata": {},
   "outputs": [
    {
     "output_type": "execute_result",
     "data": {
      "text/plain": [
       "                            unemploy_rate\n",
       "country        year gender               \n",
       "Australia      2000 female           4.99\n",
       "                    male             5.87\n",
       "               2001 female           5.35\n",
       "                    male             6.40\n",
       "               2002 female           5.16\n",
       "...                                   ...\n",
       "United Kingdom 2014 male             6.75\n",
       "               2015 female           4.97\n",
       "                    male             5.58\n",
       "               2016 female           4.71\n",
       "                    male             5.17\n",
       "\n",
       "[1448 rows x 1 columns]"
      ],
      "text/html": "<div>\n<style scoped>\n    .dataframe tbody tr th:only-of-type {\n        vertical-align: middle;\n    }\n\n    .dataframe tbody tr th {\n        vertical-align: top;\n    }\n\n    .dataframe thead th {\n        text-align: right;\n    }\n</style>\n<table border=\"1\" class=\"dataframe\">\n  <thead>\n    <tr style=\"text-align: right;\">\n      <th></th>\n      <th></th>\n      <th></th>\n      <th>unemploy_rate</th>\n    </tr>\n    <tr>\n      <th>country</th>\n      <th>year</th>\n      <th>gender</th>\n      <th></th>\n    </tr>\n  </thead>\n  <tbody>\n    <tr>\n      <th rowspan=\"5\" valign=\"top\">Australia</th>\n      <th rowspan=\"2\" valign=\"top\">2000</th>\n      <th>female</th>\n      <td>4.99</td>\n    </tr>\n    <tr>\n      <th>male</th>\n      <td>5.87</td>\n    </tr>\n    <tr>\n      <th rowspan=\"2\" valign=\"top\">2001</th>\n      <th>female</th>\n      <td>5.35</td>\n    </tr>\n    <tr>\n      <th>male</th>\n      <td>6.40</td>\n    </tr>\n    <tr>\n      <th>2002</th>\n      <th>female</th>\n      <td>5.16</td>\n    </tr>\n    <tr>\n      <th>...</th>\n      <th>...</th>\n      <th>...</th>\n      <td>...</td>\n    </tr>\n    <tr>\n      <th rowspan=\"5\" valign=\"top\">United Kingdom</th>\n      <th>2014</th>\n      <th>male</th>\n      <td>6.75</td>\n    </tr>\n    <tr>\n      <th rowspan=\"2\" valign=\"top\">2015</th>\n      <th>female</th>\n      <td>4.97</td>\n    </tr>\n    <tr>\n      <th>male</th>\n      <td>5.58</td>\n    </tr>\n    <tr>\n      <th rowspan=\"2\" valign=\"top\">2016</th>\n      <th>female</th>\n      <td>4.71</td>\n    </tr>\n    <tr>\n      <th>male</th>\n      <td>5.17</td>\n    </tr>\n  </tbody>\n</table>\n<p>1448 rows × 1 columns</p>\n</div>"
     },
     "metadata": {},
     "execution_count": 32
    }
   ],
   "source": [
    "unemp_pivot_mean_gndr = pd.pivot_table(unemp, index = ['country', 'year', 'gender'], values = ['unemploy_rate']).round(2)\n",
    "unemp_pivot_mean_gndr"
   ]
  },
  {
   "cell_type": "code",
   "execution_count": 33,
   "metadata": {},
   "outputs": [
    {
     "output_type": "execute_result",
     "data": {
      "text/plain": [
       "             unemploy_rate\n",
       "year gender               \n",
       "2000 female          15.31\n",
       "     male             8.64\n",
       "2001 female          11.21\n",
       "     male             6.74\n",
       "2002 female          11.88\n",
       "     male             6.83\n",
       "2003 female          12.13\n",
       "     male             7.04\n",
       "2004 female          11.34\n",
       "     male             6.84\n",
       "2005 female          10.02\n",
       "     male             6.17\n",
       "2006 female           9.15\n",
       "     male             5.49\n",
       "2007 female           8.84\n",
       "     male             5.50\n",
       "2008 female          10.85\n",
       "     male             8.31\n",
       "2009 female          14.87\n",
       "     male            14.61\n",
       "2010 female          15.99\n",
       "     male            16.75\n",
       "2011 female          17.92\n",
       "     male            18.05\n",
       "2012 female          21.23\n",
       "     male            21.03\n",
       "2013 female          22.90\n",
       "     male            22.53\n",
       "2014 female          22.12\n",
       "     male            21.33\n",
       "2015 female          20.03\n",
       "     male            19.00\n",
       "2016 female          19.16\n",
       "     male            17.09"
      ],
      "text/html": "<div>\n<style scoped>\n    .dataframe tbody tr th:only-of-type {\n        vertical-align: middle;\n    }\n\n    .dataframe tbody tr th {\n        vertical-align: top;\n    }\n\n    .dataframe thead th {\n        text-align: right;\n    }\n</style>\n<table border=\"1\" class=\"dataframe\">\n  <thead>\n    <tr style=\"text-align: right;\">\n      <th></th>\n      <th></th>\n      <th>unemploy_rate</th>\n    </tr>\n    <tr>\n      <th>year</th>\n      <th>gender</th>\n      <th></th>\n    </tr>\n  </thead>\n  <tbody>\n    <tr>\n      <th rowspan=\"2\" valign=\"top\">2000</th>\n      <th>female</th>\n      <td>15.31</td>\n    </tr>\n    <tr>\n      <th>male</th>\n      <td>8.64</td>\n    </tr>\n    <tr>\n      <th rowspan=\"2\" valign=\"top\">2001</th>\n      <th>female</th>\n      <td>11.21</td>\n    </tr>\n    <tr>\n      <th>male</th>\n      <td>6.74</td>\n    </tr>\n    <tr>\n      <th rowspan=\"2\" valign=\"top\">2002</th>\n      <th>female</th>\n      <td>11.88</td>\n    </tr>\n    <tr>\n      <th>male</th>\n      <td>6.83</td>\n    </tr>\n    <tr>\n      <th rowspan=\"2\" valign=\"top\">2003</th>\n      <th>female</th>\n      <td>12.13</td>\n    </tr>\n    <tr>\n      <th>male</th>\n      <td>7.04</td>\n    </tr>\n    <tr>\n      <th rowspan=\"2\" valign=\"top\">2004</th>\n      <th>female</th>\n      <td>11.34</td>\n    </tr>\n    <tr>\n      <th>male</th>\n      <td>6.84</td>\n    </tr>\n    <tr>\n      <th rowspan=\"2\" valign=\"top\">2005</th>\n      <th>female</th>\n      <td>10.02</td>\n    </tr>\n    <tr>\n      <th>male</th>\n      <td>6.17</td>\n    </tr>\n    <tr>\n      <th rowspan=\"2\" valign=\"top\">2006</th>\n      <th>female</th>\n      <td>9.15</td>\n    </tr>\n    <tr>\n      <th>male</th>\n      <td>5.49</td>\n    </tr>\n    <tr>\n      <th rowspan=\"2\" valign=\"top\">2007</th>\n      <th>female</th>\n      <td>8.84</td>\n    </tr>\n    <tr>\n      <th>male</th>\n      <td>5.50</td>\n    </tr>\n    <tr>\n      <th rowspan=\"2\" valign=\"top\">2008</th>\n      <th>female</th>\n      <td>10.85</td>\n    </tr>\n    <tr>\n      <th>male</th>\n      <td>8.31</td>\n    </tr>\n    <tr>\n      <th rowspan=\"2\" valign=\"top\">2009</th>\n      <th>female</th>\n      <td>14.87</td>\n    </tr>\n    <tr>\n      <th>male</th>\n      <td>14.61</td>\n    </tr>\n    <tr>\n      <th rowspan=\"2\" valign=\"top\">2010</th>\n      <th>female</th>\n      <td>15.99</td>\n    </tr>\n    <tr>\n      <th>male</th>\n      <td>16.75</td>\n    </tr>\n    <tr>\n      <th rowspan=\"2\" valign=\"top\">2011</th>\n      <th>female</th>\n      <td>17.92</td>\n    </tr>\n    <tr>\n      <th>male</th>\n      <td>18.05</td>\n    </tr>\n    <tr>\n      <th rowspan=\"2\" valign=\"top\">2012</th>\n      <th>female</th>\n      <td>21.23</td>\n    </tr>\n    <tr>\n      <th>male</th>\n      <td>21.03</td>\n    </tr>\n    <tr>\n      <th rowspan=\"2\" valign=\"top\">2013</th>\n      <th>female</th>\n      <td>22.90</td>\n    </tr>\n    <tr>\n      <th>male</th>\n      <td>22.53</td>\n    </tr>\n    <tr>\n      <th rowspan=\"2\" valign=\"top\">2014</th>\n      <th>female</th>\n      <td>22.12</td>\n    </tr>\n    <tr>\n      <th>male</th>\n      <td>21.33</td>\n    </tr>\n    <tr>\n      <th rowspan=\"2\" valign=\"top\">2015</th>\n      <th>female</th>\n      <td>20.03</td>\n    </tr>\n    <tr>\n      <th>male</th>\n      <td>19.00</td>\n    </tr>\n    <tr>\n      <th rowspan=\"2\" valign=\"top\">2016</th>\n      <th>female</th>\n      <td>19.16</td>\n    </tr>\n    <tr>\n      <th>male</th>\n      <td>17.09</td>\n    </tr>\n  </tbody>\n</table>\n</div>"
     },
     "metadata": {},
     "execution_count": 33
    }
   ],
   "source": [
    "sp_un = unemp_pivot_mean_gndr.loc[\"Spain\"]                              #unemployment evolution in Spain per gender : tendency is to equal\n",
    "sp_un"
   ]
  },
  {
   "cell_type": "code",
   "execution_count": 34,
   "metadata": {},
   "outputs": [
    {
     "output_type": "execute_result",
     "data": {
      "text/plain": [
       "                     unemploy_rate\n",
       "country        year               \n",
       "Australia      2000           5.43\n",
       "               2001           5.88\n",
       "               2002           5.51\n",
       "               2003           5.15\n",
       "               2004           4.78\n",
       "...                            ...\n",
       "United Kingdom 2012           7.72\n",
       "               2013           7.41\n",
       "               2014           6.29\n",
       "               2015           5.27\n",
       "               2016           4.94\n",
       "\n",
       "[724 rows x 1 columns]"
      ],
      "text/html": "<div>\n<style scoped>\n    .dataframe tbody tr th:only-of-type {\n        vertical-align: middle;\n    }\n\n    .dataframe tbody tr th {\n        vertical-align: top;\n    }\n\n    .dataframe thead th {\n        text-align: right;\n    }\n</style>\n<table border=\"1\" class=\"dataframe\">\n  <thead>\n    <tr style=\"text-align: right;\">\n      <th></th>\n      <th></th>\n      <th>unemploy_rate</th>\n    </tr>\n    <tr>\n      <th>country</th>\n      <th>year</th>\n      <th></th>\n    </tr>\n  </thead>\n  <tbody>\n    <tr>\n      <th rowspan=\"5\" valign=\"top\">Australia</th>\n      <th>2000</th>\n      <td>5.43</td>\n    </tr>\n    <tr>\n      <th>2001</th>\n      <td>5.88</td>\n    </tr>\n    <tr>\n      <th>2002</th>\n      <td>5.51</td>\n    </tr>\n    <tr>\n      <th>2003</th>\n      <td>5.15</td>\n    </tr>\n    <tr>\n      <th>2004</th>\n      <td>4.78</td>\n    </tr>\n    <tr>\n      <th>...</th>\n      <th>...</th>\n      <td>...</td>\n    </tr>\n    <tr>\n      <th rowspan=\"5\" valign=\"top\">United Kingdom</th>\n      <th>2012</th>\n      <td>7.72</td>\n    </tr>\n    <tr>\n      <th>2013</th>\n      <td>7.41</td>\n    </tr>\n    <tr>\n      <th>2014</th>\n      <td>6.29</td>\n    </tr>\n    <tr>\n      <th>2015</th>\n      <td>5.27</td>\n    </tr>\n    <tr>\n      <th>2016</th>\n      <td>4.94</td>\n    </tr>\n  </tbody>\n</table>\n<p>724 rows × 1 columns</p>\n</div>"
     },
     "metadata": {},
     "execution_count": 34
    }
   ],
   "source": [
    "unemp_pivot_mean = pd.pivot_table(unemp, index = ['country', 'year'], values = ['unemploy_rate']).round(2)\n",
    "unemp_pivot_mean"
   ]
  },
  {
   "cell_type": "code",
   "execution_count": 35,
   "metadata": {},
   "outputs": [
    {
     "output_type": "execute_result",
     "data": {
      "text/plain": [
       "      unemploy_rate\n",
       "year               \n",
       "2000           3.57\n",
       "2001           3.53\n",
       "2002           3.15\n",
       "2003           3.58\n",
       "2004           3.46\n",
       "2005           3.67\n",
       "2006           2.94\n",
       "2007           2.21\n",
       "2008           2.12\n",
       "2009           2.91\n",
       "2010           3.04\n",
       "2011           2.73\n",
       "2012           2.59\n",
       "2013           2.83\n",
       "2014           2.86\n",
       "2015           3.50\n",
       "2016           3.89"
      ],
      "text/html": "<div>\n<style scoped>\n    .dataframe tbody tr th:only-of-type {\n        vertical-align: middle;\n    }\n\n    .dataframe tbody tr th {\n        vertical-align: top;\n    }\n\n    .dataframe thead th {\n        text-align: right;\n    }\n</style>\n<table border=\"1\" class=\"dataframe\">\n  <thead>\n    <tr style=\"text-align: right;\">\n      <th></th>\n      <th>unemploy_rate</th>\n    </tr>\n    <tr>\n      <th>year</th>\n      <th></th>\n    </tr>\n  </thead>\n  <tbody>\n    <tr>\n      <th>2000</th>\n      <td>3.57</td>\n    </tr>\n    <tr>\n      <th>2001</th>\n      <td>3.53</td>\n    </tr>\n    <tr>\n      <th>2002</th>\n      <td>3.15</td>\n    </tr>\n    <tr>\n      <th>2003</th>\n      <td>3.58</td>\n    </tr>\n    <tr>\n      <th>2004</th>\n      <td>3.46</td>\n    </tr>\n    <tr>\n      <th>2005</th>\n      <td>3.67</td>\n    </tr>\n    <tr>\n      <th>2006</th>\n      <td>2.94</td>\n    </tr>\n    <tr>\n      <th>2007</th>\n      <td>2.21</td>\n    </tr>\n    <tr>\n      <th>2008</th>\n      <td>2.12</td>\n    </tr>\n    <tr>\n      <th>2009</th>\n      <td>2.91</td>\n    </tr>\n    <tr>\n      <th>2010</th>\n      <td>3.04</td>\n    </tr>\n    <tr>\n      <th>2011</th>\n      <td>2.73</td>\n    </tr>\n    <tr>\n      <th>2012</th>\n      <td>2.59</td>\n    </tr>\n    <tr>\n      <th>2013</th>\n      <td>2.83</td>\n    </tr>\n    <tr>\n      <th>2014</th>\n      <td>2.86</td>\n    </tr>\n    <tr>\n      <th>2015</th>\n      <td>3.50</td>\n    </tr>\n    <tr>\n      <th>2016</th>\n      <td>3.89</td>\n    </tr>\n  </tbody>\n</table>\n</div>"
     },
     "metadata": {},
     "execution_count": 35
    }
   ],
   "source": [
    "nw_un = unemp_pivot_mean.loc[\"Norway\"]\n",
    "nw_un"
   ]
  },
  {
   "cell_type": "code",
   "execution_count": 36,
   "metadata": {},
   "outputs": [
    {
     "output_type": "execute_result",
     "data": {
      "text/plain": [
       "      unemploy_rate\n",
       "year               \n",
       "2001          22.99\n",
       "2002          24.65\n",
       "2003          24.74\n",
       "2004          22.58\n",
       "2005          21.89\n",
       "2006          20.64\n",
       "2007          20.59\n",
       "2008          18.43\n",
       "2009          19.37\n",
       "2010          20.39\n",
       "2011          20.22\n",
       "2012          20.63\n",
       "2013          20.66\n",
       "2014          20.90\n",
       "2015          21.24\n",
       "2016          22.27"
      ],
      "text/html": "<div>\n<style scoped>\n    .dataframe tbody tr th:only-of-type {\n        vertical-align: middle;\n    }\n\n    .dataframe tbody tr th {\n        vertical-align: top;\n    }\n\n    .dataframe thead th {\n        text-align: right;\n    }\n</style>\n<table border=\"1\" class=\"dataframe\">\n  <thead>\n    <tr style=\"text-align: right;\">\n      <th></th>\n      <th>unemploy_rate</th>\n    </tr>\n    <tr>\n      <th>year</th>\n      <th></th>\n    </tr>\n  </thead>\n  <tbody>\n    <tr>\n      <th>2001</th>\n      <td>22.99</td>\n    </tr>\n    <tr>\n      <th>2002</th>\n      <td>24.65</td>\n    </tr>\n    <tr>\n      <th>2003</th>\n      <td>24.74</td>\n    </tr>\n    <tr>\n      <th>2004</th>\n      <td>22.58</td>\n    </tr>\n    <tr>\n      <th>2005</th>\n      <td>21.89</td>\n    </tr>\n    <tr>\n      <th>2006</th>\n      <td>20.64</td>\n    </tr>\n    <tr>\n      <th>2007</th>\n      <td>20.59</td>\n    </tr>\n    <tr>\n      <th>2008</th>\n      <td>18.43</td>\n    </tr>\n    <tr>\n      <th>2009</th>\n      <td>19.37</td>\n    </tr>\n    <tr>\n      <th>2010</th>\n      <td>20.39</td>\n    </tr>\n    <tr>\n      <th>2011</th>\n      <td>20.22</td>\n    </tr>\n    <tr>\n      <th>2012</th>\n      <td>20.63</td>\n    </tr>\n    <tr>\n      <th>2013</th>\n      <td>20.66</td>\n    </tr>\n    <tr>\n      <th>2014</th>\n      <td>20.90</td>\n    </tr>\n    <tr>\n      <th>2015</th>\n      <td>21.24</td>\n    </tr>\n    <tr>\n      <th>2016</th>\n      <td>22.27</td>\n    </tr>\n  </tbody>\n</table>\n</div>"
     },
     "metadata": {},
     "execution_count": 36
    }
   ],
   "source": [
    "sa_un = unemp_pivot_mean.loc[\"South Africa\"]\n",
    "sa_un"
   ]
  },
  {
   "source": [
    "## STEP 3 - GRAPHIC VISUALISATION OF EACH DATAFRAME TENDENCIES"
   ],
   "cell_type": "markdown",
   "metadata": {}
  },
  {
   "cell_type": "code",
   "execution_count": 37,
   "metadata": {},
   "outputs": [
    {
     "output_type": "error",
     "ename": "ModuleNotFoundError",
     "evalue": "No module named 'Unemployment'",
     "traceback": [
      "\u001b[1;31m---------------------------------------------------------------------------\u001b[0m",
      "\u001b[1;31mModuleNotFoundError\u001b[0m                       Traceback (most recent call last)",
      "\u001b[1;32m<ipython-input-37-71fdac71029c>\u001b[0m in \u001b[0;36m<module>\u001b[1;34m\u001b[0m\n\u001b[0;32m      6\u001b[0m \u001b[1;32mimport\u001b[0m \u001b[0mpsutil\u001b[0m\u001b[1;33m\u001b[0m\u001b[1;33m\u001b[0m\u001b[0m\n\u001b[0;32m      7\u001b[0m \u001b[1;32mimport\u001b[0m \u001b[0mplotly\u001b[0m\u001b[1;33m.\u001b[0m\u001b[0mio\u001b[0m \u001b[1;32mas\u001b[0m \u001b[0mpio\u001b[0m\u001b[1;33m\u001b[0m\u001b[1;33m\u001b[0m\u001b[0m\n\u001b[1;32m----> 8\u001b[1;33m \u001b[1;32mfrom\u001b[0m \u001b[0mUnemployment\u001b[0m \u001b[1;32mimport\u001b[0m \u001b[1;33m*\u001b[0m\u001b[1;33m\u001b[0m\u001b[1;33m\u001b[0m\u001b[0m\n\u001b[0m\u001b[0;32m      9\u001b[0m \u001b[1;32mfrom\u001b[0m \u001b[0mSuicide\u001b[0m \u001b[1;32mimport\u001b[0m \u001b[1;33m*\u001b[0m\u001b[1;33m\u001b[0m\u001b[1;33m\u001b[0m\u001b[0m\n",
      "\u001b[1;31mModuleNotFoundError\u001b[0m: No module named 'Unemployment'"
     ]
    }
   ],
   "source": [
    "import pandas as pd\n",
    "import numpy as np\n",
    "import seaborn as sns\n",
    "import plotly.express as px\n",
    "import plotly.graph_objs as go\n",
    "import psutil\n",
    "import plotly.io as pio\n",
    "from Unemployment import *\n",
    "from Suicide import *"
   ]
  },
  {
   "cell_type": "code",
   "execution_count": null,
   "metadata": {},
   "outputs": [],
   "source": []
  }
 ]
}