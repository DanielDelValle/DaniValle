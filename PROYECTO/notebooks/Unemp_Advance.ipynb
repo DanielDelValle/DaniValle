{
 "metadata": {
  "language_info": {
   "codemirror_mode": {
    "name": "ipython",
    "version": 3
   },
   "file_extension": ".py",
   "mimetype": "text/x-python",
   "name": "python",
   "nbconvert_exporter": "python",
   "pygments_lexer": "ipython3",
   "version": "3.9.1-final"
  },
  "orig_nbformat": 2,
  "kernelspec": {
   "name": "python3",
   "display_name": "Python 3.9.1 64-bit",
   "metadata": {
    "interpreter": {
     "hash": "ac59ebe37160ed0dfa835113d9b8498d9f09ceb179beaac4002f036b9467c963"
    }
   }
  }
 },
 "nbformat": 4,
 "nbformat_minor": 2,
 "cells": [
  {
   "cell_type": "code",
   "execution_count": 5,
   "metadata": {},
   "outputs": [],
   "source": [
    "import pandas as pd\n",
    "import numpy as np\n",
    "from counlist import countrylist\n",
    "\n",
    "unemployment = pd.read_csv(\"..\\\\documentation\\\\unemployment_all_ratio.csv\")\n",
    "\n",
    "\n",
    "unemp = unemployment.loc[unemployment[\"Country\"].isin(countrylist)]                              #selecting values only for countries in both dataframes\n",
    "\n",
    "unemp = unemp.loc[unemployment['Series'] == \"Unemployment rate\"]                                 #selecting only values of interest(unemployment rate only)\n",
    "unemp = unemp[~unemp.Country.str.contains(\"Euro\", na=False)]                                     #discarding groups of countries(no info in the other dataframe)\n",
    "unemp = unemp[~unemp.Country.str.contains(\"OECD\", na=False)]  \n",
    "\n",
    "unemp = unemp.rename(columns={'SEX': 'Gender', 'Value':'Unemploy_Rate', \"Time\": \"Year\"})         #renaming columns for better understanding and according to the other dataframe\n",
    "unemp = unemp[['Country', 'Gender', 'Age', 'Year', 'Unemploy_Rate']]                             #selecting only needed columns\n",
    "\n",
    "unemp.columns = [x.lower() for x in unemp.columns]                                               #normalising columns names\n",
    "\n",
    "                                     \n",
    "\n",
    "unemp = unemp[unemp['year'] <= 2016]                                                             \n",
    "\n",
    "unemp.loc[unemp['gender'] == \"MW\", 'gender'] = \"both\"\n",
    "unemp.loc[unemp['gender'] == \"MEN\", 'gender'] = \"male\"\n",
    "unemp.loc[unemp['gender'] == \"WOMEN\", 'gender'] = \"female\"\n",
    "\n",
    "unemp['age'] = unemp['age'].str.replace(' to ', '-')\n",
    "\n",
    "unemp = unemp[(unemp['age'] == '15-24') | (unemp['age'] == '25-34') |(unemp['age'] == '35-44') |(unemp['age'] == '45-54') | (unemp['age'] == '55-64') |(unemp['age'] == '65-69') | (unemp['age'] == '70-74')]\n",
    "\n",
    "unemp['age'] = unemp['age'].str.replace(' to ', '-')\n",
    "\n",
    "unemp.set_index('country', inplace=True)"
   ]
  },
  {
   "cell_type": "code",
   "execution_count": 7,
   "metadata": {},
   "outputs": [],
   "source": [
    "unemp.loc[(unemp[\"age\"] == '35-44') | (unemp[\"age\"] == '45-54'), 'age'] = \"35-54\""
   ]
  },
  {
   "cell_type": "code",
   "execution_count": 13,
   "metadata": {},
   "outputs": [],
   "source": [
    "unemp.loc[(unemp[\"age\"] == '55-64') | (unemp[\"age\"] == '65-69') | (unemp[\"age\"] == '70-74'), 'age'] = \"55-74\""
   ]
  },
  {
   "cell_type": "code",
   "execution_count": 17,
   "metadata": {},
   "outputs": [
    {
     "output_type": "execute_result",
     "data": {
      "text/plain": [
       "55-74    5306\n",
       "35-54    3846\n",
       "15-24    1923\n",
       "25-34    1923\n",
       "Name: age, dtype: int64"
      ]
     },
     "metadata": {},
     "execution_count": 17
    }
   ],
   "source": [
    "unemp.age.value_counts()"
   ]
  },
  {
   "cell_type": "code",
   "execution_count": 18,
   "metadata": {},
   "outputs": [
    {
     "output_type": "execute_result",
     "data": {
      "text/plain": [
       "both      4348\n",
       "male      4338\n",
       "female    4312\n",
       "Name: gender, dtype: int64"
      ]
     },
     "metadata": {},
     "execution_count": 18
    }
   ],
   "source": [
    "unemp.gender.value_counts()"
   ]
  },
  {
   "cell_type": "code",
   "execution_count": null,
   "metadata": {},
   "outputs": [],
   "source": []
  }
 ]
}