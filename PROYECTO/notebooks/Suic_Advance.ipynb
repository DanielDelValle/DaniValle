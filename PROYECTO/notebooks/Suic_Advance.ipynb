{
 "metadata": {
  "language_info": {
   "codemirror_mode": {
    "name": "ipython",
    "version": 3
   },
   "file_extension": ".py",
   "mimetype": "text/x-python",
   "name": "python",
   "nbconvert_exporter": "python",
   "pygments_lexer": "ipython3",
   "version": "3.9.1-final"
  },
  "orig_nbformat": 2,
  "kernelspec": {
   "name": "python3",
   "display_name": "Python 3.9.1 64-bit",
   "metadata": {
    "interpreter": {
     "hash": "ac59ebe37160ed0dfa835113d9b8498d9f09ceb179beaac4002f036b9467c963"
    }
   }
  }
 },
 "nbformat": 4,
 "nbformat_minor": 2,
 "cells": [
  {
   "cell_type": "code",
   "execution_count": 1,
   "metadata": {},
   "outputs": [],
   "source": [
    "import pandas as pd\n",
    "import numpy as np\n",
    "from counlist import countrylist\n",
    "\n",
    "suicide = pd.read_csv(\"..\\\\documentation\\\\who_suicide_statistics.csv\")\n",
    "\n",
    "suic = suicide.loc[suicide[\"country\"].isin(countrylist)]          #selecting values only for countries in both dataframes\n",
    "\n",
    "suic = suic.rename(columns={'sex': 'gender'})\n",
    "\n",
    "suic = suic[suic['year'] >= 2000]                                 #setting years range according to unemployment dataframe\n",
    "\n",
    "suic['age'] = suic['age'].str.replace('years', '')                #normalising age format\n",
    "suic = suic[~suic.age.str.contains(\"14\", na=False)]    \n",
    "suic = suic[~suic.age.str.contains(\"75+\", na=False)]    \n",
    "\n",
    "suic.set_index('country', inplace=True)"
   ]
  },
  {
   "cell_type": "code",
   "execution_count": 3,
   "metadata": {},
   "outputs": [
    {
     "output_type": "execute_result",
     "data": {
      "text/plain": [
       "25-34     1200\n",
       "15-24     1200\n",
       "35-54     1200\n",
       "55-74     1200\n",
       "Name: age, dtype: int64"
      ]
     },
     "metadata": {},
     "execution_count": 3
    }
   ],
   "source": [
    "suic.age.value_counts()"
   ]
  },
  {
   "cell_type": "code",
   "execution_count": 4,
   "metadata": {},
   "outputs": [
    {
     "output_type": "execute_result",
     "data": {
      "text/plain": [
       "male      2400\n",
       "female    2400\n",
       "Name: gender, dtype: int64"
      ]
     },
     "metadata": {},
     "execution_count": 4
    }
   ],
   "source": [
    "suic.gender.value_counts()"
   ]
  },
  {
   "cell_type": "code",
   "execution_count": null,
   "metadata": {},
   "outputs": [],
   "source": []
  }
 ]
}