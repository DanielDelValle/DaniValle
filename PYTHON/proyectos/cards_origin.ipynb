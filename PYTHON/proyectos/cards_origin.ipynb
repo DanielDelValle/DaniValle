{
 "metadata": {
  "language_info": {
   "codemirror_mode": {
    "name": "ipython",
    "version": 3
   },
   "file_extension": ".py",
   "mimetype": "text/x-python",
   "name": "python",
   "nbconvert_exporter": "python",
   "pygments_lexer": "ipython3",
   "version": 3
  },
  "orig_nbformat": 2
 },
 "nbformat": 4,
 "nbformat_minor": 2,
 "cells": [
  {
   "cell_type": "code",
   "execution_count": null,
   "metadata": {},
   "outputs": [],
   "source": [
    "Cards_hearts = ['Ace_Hearts', '2_Hearts', '3_Hearts', '4_Hearts', '5_Hearts', '6_Hearts', '7_Hearts', 'Jack_Hearts', 'Queen_Hearts', 'King_Hearts']\n",
    "Cards_spades = ['Ace_Spades', '2_Spades', '3_Spades', '4_Spades', '5_Spades', '6_Spades', '7_Spades', 'Jack_Spades', 'Queen_Spades', 'King_Spades']\n",
    "Cards_clubs = ['Ace_Clubs', '2_Clubs', '3_Clubs', '4_Clubs', '5_Clubs', '6_Clubs', '7_Clubs', 'Jack_Clubs', 'Queen_Clubs', 'King_Clubs']\n",
    "Cards_diamonds = ['Ace_Diamonds', '2_Diamonds', '3_Diamonds', '4_Diamonds', '5_Diamonds', '6_Diamonds', '7_Diamonds', 'Jack_Diamonds', 'Queen_Diamonds', 'King_Diamonds]"
   ]
  }
 ]
}