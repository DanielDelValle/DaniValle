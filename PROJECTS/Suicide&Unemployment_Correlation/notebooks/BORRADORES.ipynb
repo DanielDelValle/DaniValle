{
 "metadata": {
  "language_info": {
   "codemirror_mode": {
    "name": "ipython",
    "version": 3
   },
   "file_extension": ".py",
   "mimetype": "text/x-python",
   "name": "python",
   "nbconvert_exporter": "python",
   "pygments_lexer": "ipython3",
   "version": "3.9.1-final"
  },
  "orig_nbformat": 2,
  "kernelspec": {
   "name": "python3",
   "display_name": "Python 3.9.1 64-bit",
   "metadata": {
    "interpreter": {
     "hash": "ac59ebe37160ed0dfa835113d9b8498d9f09ceb179beaac4002f036b9467c963"
    }
   }
  }
 },
 "nbformat": 4,
 "nbformat_minor": 2,
 "cells": [
  {
   "cell_type": "code",
   "execution_count": null,
   "metadata": {},
   "outputs": [],
   "source": [
    "def list_dif(a, b):\n",
    "    for x in a:\n",
    "        if x in a and x in b:\n",
    "            a.remove(x)\n",
    "        else: x = x\n",
    "    for y in b:\n",
    "        if y in a and y in b:\n",
    "            a.remove(y)\n",
    "        else: y = y\n",
    "    return a"
   ]
  },
  {
   "cell_type": "code",
   "execution_count": null,
   "metadata": {},
   "outputs": [],
   "source": [
    "a = [1, 2, \"c\", \"h\"]\n",
    "b = [1, 3, \"c\", \"j\"]    \n",
    "list_dif(a, b)"
   ]
  },
  {
   "cell_type": "code",
   "execution_count": 40,
   "metadata": {},
   "outputs": [],
   "source": [
    "def likes(likelist):\n",
    "    while True:\n",
    "        if len(likelist) == 0:\n",
    "            return f'no one likes this'\n",
    "            \n",
    "        if len(likelist) == 1:\n",
    "            return f'{likelist[0]} likes this'\n",
    "\n",
    "        if len(likelist) == 2:\n",
    "            return f'{likelist[0]} and {likelist[1]} like this'\n",
    "    \n",
    "        if len(likelist) == 3:\n",
    "            return f'{likelist[0]}, {likelist[1]} and {likelist[2]} like this'\n",
    "\n",
    "        if len(likelist) > 3:\n",
    "            for x in likelist:\n",
    "                rest = len(likelist)-2\n",
    "                return f'{likelist[0]}, {likelist[1]} and {rest} others like this'"
   ]
  },
  {
   "cell_type": "code",
   "execution_count": 41,
   "metadata": {},
   "outputs": [
    {
     "output_type": "execute_result",
     "data": {
      "text/plain": [
       "'Pedro, pablo and 2 others like this'"
      ]
     },
     "metadata": {},
     "execution_count": 41
    }
   ],
   "source": [
    "likes([\"Pedro\", \"pablo\", \"mar\", \"luis\"])"
   ]
  },
  {
   "cell_type": "code",
   "execution_count": 80,
   "metadata": {},
   "outputs": [],
   "source": [
    "def duplicate_count(text):\n",
    "    import collections\n",
    "    text = text.lower()\n",
    "    results = collections.Counter(text)\n",
    "    two = \"occurs twice\"\n",
    "    three = \"occurs three times\"\n",
    "    four = \"occurs four times\"\n",
    "    five = \"occurs five times\"\n",
    "    six = \"occurs six times\"\n",
    "    seven = \"occurs seven times\"   \n",
    "    \n",
    "    for key, value in results.items():\n",
    "        if value == 1:\n",
    "            return \"no characters repeats more than once\"\n",
    "        elif value ==2:\n",
    "            return f'\"{key}\" {two}'\n",
    "        elif value ==3:\n",
    "            return f'\"{key}\" {thre}'\n",
    "        elif value ==4:\n",
    "            return f'\"{key}\" {four}'\n",
    "        elif value ==5:\n",
    "            return f'\"{key}\" {five}'\n",
    "        elif value ==6:\n",
    "            return f'\"{key}\" {six}'\n",
    "        elif value ==7:\n",
    "            return f'\"{key}\" {seven}'\n"
   ]
  },
  {
   "cell_type": "code",
   "execution_count": 81,
   "metadata": {},
   "outputs": [
    {
     "output_type": "execute_result",
     "data": {
      "text/plain": [
       "'\"p\" occurs twice'"
      ]
     },
     "metadata": {},
     "execution_count": 81
    }
   ],
   "source": [
    "duplicate_count(\"Papaya\")"
   ]
  },
  {
   "cell_type": "code",
   "execution_count": null,
   "metadata": {},
   "outputs": [],
   "source": [
    "#para arreglar path?¿?¿\n",
    "import sys\n",
    "import os\n",
    "lib_path = os.path.abspath(os.path.join(os.path.dirname(__file__), '../modules'))\n",
    "sys.path.append(lib_path)"
   ]
  },
  {
   "cell_type": "code",
   "execution_count": 2,
   "metadata": {},
   "outputs": [],
   "source": [
    "sys.path.append(\"C:\\\\DATA_SCIENCE\\\\PROYECTO\")"
   ]
  },
  {
   "cell_type": "code",
   "execution_count": null,
   "metadata": {},
   "outputs": [],
   "source": [
    "def namelist(names):\n",
    "    acum = 0\n",
    "    lista = []\n",
    "    for z in names:\n",
    "        for x, y in z.items:\n",
    "            if acum < len(names)-1:\n",
    "                lista.append(y)\n",
    "            if accum == len(names)-1:\n",
    "                lista.append('&', y)\n",
    "            return lista"
   ]
  },
  {
   "cell_type": "code",
   "execution_count": 5,
   "metadata": {},
   "outputs": [],
   "source": [
    "def alphabet_position(text):\n",
    "    import string\n",
    "    acum = 0\n",
    "    text = text.lower()\n",
    "    abc = list(string.ascii_lowercase)\n",
    "    dict_abc = {}\n",
    "    output = \"\"\n",
    "    for x, y in enumerate (abc, 1):\n",
    "        dict_abc[y] = x\n",
    "    for val in text:\n",
    "        if val in dict_abc.keys() and acum < len(text):\n",
    "            output += str(dict_abc[val])\n",
    "            output += \" \"\n",
    "            acum +=1\n",
    "        elif val in dict_abc.keys() and acum == len(text):\n",
    "            output -= \" \"\n",
    "        \n",
    "        else: continue\n",
    "    \n",
    "    return output\n",
    "   \n"
   ]
  },
  {
   "cell_type": "code",
   "execution_count": 6,
   "metadata": {},
   "outputs": [
    {
     "output_type": "execute_result",
     "data": {
      "text/plain": [
       "'20 8 5 19 21 14 19 5 20 19 5 20 19 1 20 20 23 5 12 22 5 '"
      ]
     },
     "metadata": {},
     "execution_count": 6
    }
   ],
   "source": [
    "alphabet_position('The sunset sets at twelve')"
   ]
  },
  {
   "cell_type": "code",
   "execution_count": null,
   "metadata": {},
   "outputs": [],
   "source": []
  }
 ]
}