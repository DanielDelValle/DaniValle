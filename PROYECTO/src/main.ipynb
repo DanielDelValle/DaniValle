{
 "metadata": {
  "language_info": {
   "codemirror_mode": {
    "name": "ipython",
    "version": 3
   },
   "file_extension": ".py",
   "mimetype": "text/x-python",
   "name": "python",
   "nbconvert_exporter": "python",
   "pygments_lexer": "ipython3",
   "version": "3.9.1-final"
  },
  "orig_nbformat": 2,
  "kernelspec": {
   "name": "python3",
   "display_name": "Python 3.9.1 64-bit",
   "metadata": {
    "interpreter": {
     "hash": "ac59ebe37160ed0dfa835113d9b8498d9f09ceb179beaac4002f036b9467c963"
    }
   }
  }
 },
 "nbformat": 4,
 "nbformat_minor": 2,
 "cells": [
  {
   "source": [
    "# E.D.A.: CORRELATION BETWEEN  UNEMPLOYMENT & SUICIDE RATES IN 43 COUNTRIES FROM 2000 TO 2016  \n",
    "By Daniel Del Valle González  2020-2021"
   ],
   "cell_type": "markdown",
   "metadata": {}
  },
  {
   "source": [
    "## STEP 1 - DATA CLEANING & NORMALISING\n",
    "## STEP 2 - DATA ANALISYS & TENDENCIES. TOP & BOTTOM COUNTRIES IN SUICIDE & UNEMPLOYMENT RATES\n",
    "## STEP 3 - GRAPHIC VISUALISATION OF EACH DATAFRAME TENDENCIES"
   ],
   "cell_type": "markdown",
   "metadata": {}
  },
  {
   "source": [
    "## STEP 1 - DATA CLEANING & NORMALISING"
   ],
   "cell_type": "markdown",
   "metadata": {}
  },
  {
   "source": [
    "### We got 2 csv from:   \n",
    "1 - https://www.kaggle.com/szamil/who-suicide-statistics csv for suicides from 2000.  \n",
    "2 - https://stats.oecd.org/Index.aspx?QueryId=64198# csv for unemployment rates. I selected and added some countries that by defect were not included.  \n",
    "\n",
    "We create 2 DataFrames from them:"
   ],
   "cell_type": "markdown",
   "metadata": {}
  },
  {
   "cell_type": "code",
   "execution_count": null,
   "metadata": {},
   "outputs": [],
   "source": [
    "import pandas as pd\n",
    "import numpy as np\n",
    "from utils.folders_tb import *\n",
    "from utils.mining_data_tb import *\n",
    "from utils.visualization_tb import *\n",
    "from utils.Unemployment import *\n",
    "from utils.Suicide import *\n"
   ]
  },
  {
   "cell_type": "code",
   "execution_count": null,
   "metadata": {},
   "outputs": [],
   "source": [
    "suicide = pd.read_csv(\"..\\\\documentation\\\\who_suicide_statistics.csv\")\n",
    "infotizer(suicide)"
   ]
  },
  {
   "cell_type": "code",
   "execution_count": null,
   "metadata": {},
   "outputs": [],
   "source": [
    "unemployment = pd.read_csv(\"..\\\\documentation\\\\unemployment_all_ratio.csv\")\n",
    "infotizer(unemployment)"
   ]
  },
  {
   "source": [
    "## Both had to be cleaned and \"synchronised\" in many ways:"
   ],
   "cell_type": "markdown",
   "metadata": {}
  },
  {
   "source": [
    "### Selecting values only for countries in both dataframes  (a total of 43 countries do have data in both dataframes)"
   ],
   "cell_type": "markdown",
   "metadata": {}
  },
  {
   "cell_type": "code",
   "execution_count": null,
   "metadata": {},
   "outputs": [],
   "source": [
    "suic = suicide.loc[suicide['country'].isin(countrylist)]\n",
    "unemp = unemployment.loc[unemployment[\"Country\"].isin(countrylist)] "
   ]
  },
  {
   "source": [
    "### Unemployment CSV also included \"employment rate\" and other values (columns). We only select those regarding to \"unemployment rate\""
   ],
   "cell_type": "markdown",
   "metadata": {}
  },
  {
   "cell_type": "code",
   "execution_count": null,
   "metadata": {},
   "outputs": [],
   "source": [
    "unemp = unemp.loc[unemp['Series'] == \"Unemployment rate\"]"
   ]
  },
  {
   "source": [
    "### Unemployment DataFrame had some groups of countries that did not appear on the Suicides Rates DataFrame, so are discarded."
   ],
   "cell_type": "markdown",
   "metadata": {}
  },
  {
   "cell_type": "code",
   "execution_count": null,
   "metadata": {},
   "outputs": [],
   "source": [
    "unemp = unemp[~unemp.Country.str.contains(\"Euro\" or \"OECD\", na=False)]                                    #discarding groups of countries(no info in the other dataframe)"
   ]
  },
  {
   "source": [
    "### Unemployment DataFrame columns are to be renamed with similar names than those to be contrasted with in Suicide DataFrame"
   ],
   "cell_type": "markdown",
   "metadata": {}
  },
  {
   "cell_type": "code",
   "execution_count": null,
   "metadata": {},
   "outputs": [],
   "source": [
    "unemp = unemployment.rename(columns={'SEX': 'Gender', 'Value':'Unemploy_Rate', \"Time\": \"Year\"}) #renaming columns for better understanding and according to the other dataframe\n",
    "suic = suic.rename(columns={'sex': 'gender'}) \n",
    "\n",
    "unemp = unemp[['Country', 'Gender', 'Age', 'Year', 'Unemploy_Rate']]                            #selecting only needed columns"
   ]
  },
  {
   "cell_type": "code",
   "execution_count": null,
   "metadata": {},
   "outputs": [],
   "source": [
    "column_lower(suic)   \n",
    "column_lower(unemp)                                                                             #normalising columns names"
   ]
  },
  {
   "source": [
    "### Dataframes had data in different years ranges, so we had to cut them to fit:"
   ],
   "cell_type": "markdown",
   "metadata": {}
  },
  {
   "cell_type": "code",
   "execution_count": null,
   "metadata": {},
   "outputs": [],
   "source": [
    "unemp = unemp[unemp['year'] <= 2016]\n",
    "suic = suic[suic['year'] >= 2000]"
   ]
  },
  {
   "source": [
    "### On the \"gender\" columns there was a \"MW\" value (ambiguous, guessed to mean Men+ Women). It was discarded. Gender values are normalised to fit with the other DataFrame"
   ],
   "cell_type": "markdown",
   "metadata": {}
  },
  {
   "cell_type": "code",
   "execution_count": null,
   "metadata": {},
   "outputs": [],
   "source": [
    "unemp.drop(unemp[unemp.gender == 'MW'].index, inplace=True)\n",
    "unemp.loc[unemp['gender'] == \"MEN\", 'gender'] = \"male\"                                                             #normalising \"gender\" column formats\n",
    "unemp.loc[unemp['gender'] == \"WOMEN\", 'gender'] = \"female\"          "
   ]
  },
  {
   "source": [
    "### On the \"age\" columns the ranges where different (fewer and broader in Suicides Df, narrower in Unemployment Df. Synchronisation was not an easy task)"
   ],
   "cell_type": "markdown",
   "metadata": {}
  },
  {
   "cell_type": "code",
   "execution_count": null,
   "metadata": {},
   "outputs": [],
   "source": [
    "suic['age'] = suic['age'].str.rstrip('years ')                                                                     #normalising age formats\n",
    "unemp['age'] = unemp['age'].str.replace(' to ', '-')                                             \n",
    "\n",
    "unemp = unemp[(unemp['age'] == '15-24') | (unemp['age'] == '25-34') |(unemp['age'] == '35-44') |(unemp['age'] == '45-54') | (unemp['age'] == '55-64') |(unemp['age'] == '65-69') | (unemp['age'] == '70-74')]                                                                                               #discarding duplicated age ranges(some are include inside others) \n",
    "\n",
    "unemp.loc[(unemp[\"age\"] == '35-44') | (unemp[\"age\"] == '45-54'), 'age'] = '35-54'                                  #merging smaller ranges into a bigg one (and common with my other csv)\n",
    "unemp.loc[(unemp[\"age\"] == '55-64') | (unemp[\"age\"] == '65-69') | (unemp[\"age\"] == '70-74'), 'age'] = \"55-74\""
   ]
  },
  {
   "source": [
    "## STEP 2 - DATA ANALISYS & TENDENCIES. TOP & BOTTOM COUNTRIES IN SUICIDE & UNEMPLOYMENT RATES"
   ],
   "cell_type": "markdown",
   "metadata": {}
  },
  {
   "source": [
    "### Suicide is stadistically more common visualised in \"suicides rate per 100.000 people\", so we create a column regarding that measure:"
   ],
   "cell_type": "markdown",
   "metadata": {}
  },
  {
   "cell_type": "code",
   "execution_count": null,
   "metadata": {},
   "outputs": [],
   "source": [
    "suic[\"suic_100k\"] = ((suic.suicides_no/suic.population)*100000).round(2)              #only 2 decimals is enough"
   ]
  },
  {
   "source": [
    "### Then we create some sub-dataframes with info centered in Age: "
   ],
   "cell_type": "markdown",
   "metadata": {}
  },
  {
   "cell_type": "code",
   "execution_count": null,
   "metadata": {},
   "outputs": [],
   "source": [
    "aggregation_functions = {'suic_100k': 'mean'}                                       #creating agg functions to make it faster when grouping tables\n",
    "aggregation_functions2 = {'unemploy_rate': 'mean'}"
   ]
  },
  {
   "cell_type": "code",
   "execution_count": null,
   "metadata": {},
   "outputs": [],
   "source": [
    "suic_ages_mean = suic.groupby(suic['age']).aggregate(aggregation_functions).sort_values(\"suic_100k\",ascending=False).round(2)\n",
    "suic_ages_mean"
   ]
  },
  {
   "cell_type": "code",
   "execution_count": null,
   "metadata": {},
   "outputs": [],
   "source": [
    "unemp_ages_mean = unemp.groupby('age').aggregate(aggregation_functions2).sort_values(\"unemploy_rate\", ascending=False).round(2)\n",
    "unemp_ages_mean"
   ]
  },
  {
   "source": [
    "### Also we create some sub-dataframes with info centered in distribution per Country:"
   ],
   "cell_type": "markdown",
   "metadata": {}
  },
  {
   "cell_type": "code",
   "execution_count": null,
   "metadata": {},
   "outputs": [],
   "source": [
    "suic_countries_mean = suic.groupby('country').aggregate(aggregation_functions).sort_values(\"suic_100k\",ascending=True).round(2)\r\n",
    "suic_countries_mean"
   ]
  },
  {
   "cell_type": "code",
   "execution_count": null,
   "metadata": {},
   "outputs": [],
   "source": [
    "unemp_countries_mean = unemp.groupby('country').aggregate(aggregation_functions2).sort_values(\"unemploy_rate\", ascending=False).round(2)\n",
    "unemp_countries_mean"
   ]
  },
  {
   "cell_type": "code",
   "execution_count": null,
   "metadata": {},
   "outputs": [],
   "source": [
    "most_per_100k = suic_countries_mean.sort_values(\"suic_100k\", ascending=False).round(2).head()\n",
    "least_per_100k = suic_countries_mean.sort_values(\"suic_100k\", ascending=False).round(2).tail()\n",
    "print(most_per_100k)\n",
    "print(least_per_100k)"
   ]
  },
  {
   "cell_type": "code",
   "execution_count": null,
   "metadata": {},
   "outputs": [],
   "source": [
    "most_of_all = suic.groupby(\"country\").sum().sort_values(\"suicides_no\", ascending=False).head()                #top and bottom countries for absolute number of suicides\n",
    "least_of_all = suic.groupby(\"country\").sum().sort_values(\"suicides_no\", ascending=False).tail()\n",
    "print(most_of_all)\n",
    "print(least_of_all)"
   ]
  },
  {
   "cell_type": "code",
   "execution_count": null,
   "metadata": {},
   "outputs": [],
   "source": [
    "most_unemp = unemp_countries_mean.sort_values(\"unemploy_rate\", ascending=False).round(2).head(5)               #top and bottom countries for unemployment rate\n",
    "least_unemp = unemp_countries_mean.sort_values(\"unemploy_rate\", ascending=False).round(2).tail(5)\n",
    "print(most_unemp)\n",
    "print(least_unemp)"
   ]
  },
  {
   "source": [
    "### Suicide countries of Interest:"
   ],
   "cell_type": "markdown",
   "metadata": {}
  },
  {
   "cell_type": "code",
   "execution_count": null,
   "metadata": {},
   "outputs": [],
   "source": [
    "suic_pivot = pd.pivot_table(suic, index = ['country', 'year'], values = ['suicides_no', 'suic_100k']).round(2)"
   ]
  },
  {
   "cell_type": "code",
   "execution_count": null,
   "metadata": {},
   "outputs": [],
   "source": [
    "lt_su = suic_pivot.loc[\"Lithuania\"]\n",
    "lt_su"
   ]
  },
  {
   "cell_type": "code",
   "execution_count": null,
   "metadata": {},
   "outputs": [],
   "source": [
    "ru_su = suic_pivot.loc[\"Russian Federation\"]\n",
    "ru_su"
   ]
  },
  {
   "cell_type": "code",
   "execution_count": null,
   "metadata": {},
   "outputs": [],
   "source": [
    "sa_su = suic_pivot.loc[\"South Africa\"]\n",
    "sa_su"
   ]
  },
  {
   "source": [
    "### Unemployment countries of Interest:"
   ],
   "cell_type": "markdown",
   "metadata": {}
  },
  {
   "cell_type": "code",
   "execution_count": null,
   "metadata": {},
   "outputs": [],
   "source": [
    "unemp_pivot_mean_gndr = pd.pivot_table(unemp, index = ['country', 'year', 'gender'], values = ['unemploy_rate']).round(2)\n",
    "unemp_pivot_mean_gndr"
   ]
  },
  {
   "cell_type": "code",
   "execution_count": null,
   "metadata": {},
   "outputs": [],
   "source": [
    "sp_un = unemp_pivot_mean_gndr.loc[\"Spain\"]                              #unemployment evolution in Spain per gender : tendency is to equal\n",
    "sp_un"
   ]
  },
  {
   "cell_type": "code",
   "execution_count": null,
   "metadata": {},
   "outputs": [],
   "source": [
    "unemp_pivot_mean = pd.pivot_table(unemp, index = ['country', 'year'], values = ['unemploy_rate']).round(2)\n",
    "unemp_pivot_mean"
   ]
  },
  {
   "cell_type": "code",
   "execution_count": null,
   "metadata": {},
   "outputs": [],
   "source": [
    "nw_un = unemp_pivot_mean.loc[\"Norway\"]\n",
    "nw_un"
   ]
  },
  {
   "cell_type": "code",
   "execution_count": null,
   "metadata": {},
   "outputs": [],
   "source": [
    "sa_un = unemp_pivot_mean.loc[\"South Africa\"]\n",
    "sa_un"
   ]
  },
  {
   "source": [
    "## STEP 3 - GRAPHIC VISUALISATION OF EACH DATAFRAME TENDENCIES"
   ],
   "cell_type": "markdown",
   "metadata": {}
  },
  {
   "cell_type": "code",
   "execution_count": null,
   "metadata": {},
   "outputs": [],
   "source": [
    "import pandas as pd\n",
    "import numpy as np\n",
    "import seaborn as sns\n",
    "import plotly.express as px\n",
    "import plotly.graph_objs as go\n",
    "import psutil\n",
    "import plotly.io as pio\n",
    "from Unemployment import *\n",
    "from Suicide import *"
   ]
  },
  {
   "cell_type": "code",
   "execution_count": null,
   "metadata": {},
   "outputs": [],
   "source": []
  }
 ]
}