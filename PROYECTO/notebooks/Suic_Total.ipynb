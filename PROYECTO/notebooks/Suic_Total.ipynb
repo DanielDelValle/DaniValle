{
 "metadata": {
  "language_info": {
   "codemirror_mode": {
    "name": "ipython",
    "version": 3
   },
   "file_extension": ".py",
   "mimetype": "text/x-python",
   "name": "python",
   "nbconvert_exporter": "python",
   "pygments_lexer": "ipython3",
   "version": "3.9.1-final"
  },
  "orig_nbformat": 2,
  "kernelspec": {
   "name": "python3",
   "display_name": "Python 3.9.1 64-bit",
   "metadata": {
    "interpreter": {
     "hash": "ac59ebe37160ed0dfa835113d9b8498d9f09ceb179beaac4002f036b9467c963"
    }
   }
  }
 },
 "nbformat": 4,
 "nbformat_minor": 2,
 "cells": [
  {
   "cell_type": "code",
   "execution_count": null,
   "metadata": {},
   "outputs": [],
   "source": [
    "import pandas as pd\n",
    "import numpy as np\n",
    "import seaborn as sns\n",
    "import plotly as po\n",
    "import plotly.express as px\n",
    "import plotly.graph_objs as go\n",
    "\n",
    "from counlist import countrylist\n",
    "\n",
    "\n",
    "suicide = pd.read_csv(\"C:\\\\DATA_SCIENCE\\\\PROYECTO\\\\documentation\\\\who_suicide_statistics.csv\")\n",
    "\n",
    "suic = suicide.loc[suicide[\"country\"].isin(countrylist)]         \n",
    "\n",
    "suic = suic.rename(columns={'sex': 'gender'})\n",
    "\n",
    "suic = suic[suic['year'] >= 2000]                                              \n",
    "\n",
    "\n",
    "suic['age'] = suic['age'].str.rstrip('years ')                      #normalising age format\n"
   ]
  },
  {
   "cell_type": "code",
   "execution_count": null,
   "metadata": {},
   "outputs": [],
   "source": [
    "suic[\"suic_100k\"] = ((suic.suicides_no/suic.population)*100000).round(2)"
   ]
  },
  {
   "cell_type": "code",
   "execution_count": null,
   "metadata": {},
   "outputs": [],
   "source": [
    "aggregation_functions = {'suic_100k': 'mean'}                                   #view of suicide on all range of ages"
   ]
  },
  {
   "cell_type": "code",
   "execution_count": null,
   "metadata": {},
   "outputs": [],
   "source": [
    "suic_ages_mean = suic.groupby(suic['age']).aggregate(aggregation_functions).sort_values(\"suic_100k\",ascending=False).round(2)\n",
    "suic_ages_mean"
   ]
  },
  {
   "cell_type": "code",
   "execution_count": null,
   "metadata": {},
   "outputs": [],
   "source": [
    "suic_countries_mean = suic.groupby('country').aggregate(aggregation_functions).sort_values(\"suic_100k\",ascending=True).round(2)\n",
    "suic_countries_mean"
   ]
  },
  {
   "cell_type": "code",
   "execution_count": null,
   "metadata": {},
   "outputs": [],
   "source": [
    "most_per_100k = suic_countries_mean.sort_values(\"suic_100k\", ascending=False).round(2).head()\n",
    "least_per_100k = suic_countries_mean.sort_values(\"suic_100k\", ascending=False).round(2).tail()"
   ]
  },
  {
   "cell_type": "code",
   "execution_count": null,
   "metadata": {},
   "outputs": [],
   "source": [
    "print(most_per_100k)\n",
    "print(least_per_100k)"
   ]
  },
  {
   "cell_type": "code",
   "execution_count": null,
   "metadata": {},
   "outputs": [],
   "source": [
    "most_of_all = suic.sort_values(\"suicides_no\", ascending=False).head()\n",
    "least_of_all = suic.groupby(\"country\").sum().sort_values(\"suicides_no\", ascending=False).tail()"
   ]
  },
  {
   "cell_type": "code",
   "execution_count": null,
   "metadata": {},
   "outputs": [],
   "source": [
    "print(most_of_all)\n",
    "print(least_of_all)"
   ]
  },
  {
   "cell_type": "code",
   "execution_count": null,
   "metadata": {},
   "outputs": [],
   "source": [
    "suic_pivot = pd.pivot_table(suic, index = ['country', 'year'], values = ['suicides_no', 'suic_100k']).round(2)"
   ]
  },
  {
   "cell_type": "code",
   "execution_count": null,
   "metadata": {},
   "outputs": [],
   "source": [
    "sp_su = suic_pivot.loc[\"Spain\"]\n",
    "sp_su"
   ]
  },
  {
   "cell_type": "code",
   "execution_count": null,
   "metadata": {},
   "outputs": [],
   "source": [
    "lt_su = suic_pivot.loc[\"Lithuania\"]\n",
    "lt_su"
   ]
  },
  {
   "cell_type": "code",
   "execution_count": null,
   "metadata": {},
   "outputs": [],
   "source": [
    "ru_su = suic_pivot.loc[\"Russian Federation\"]\n",
    "ru_su"
   ]
  },
  {
   "cell_type": "code",
   "execution_count": null,
   "metadata": {},
   "outputs": [],
   "source": [
    "tu_su = suic_pivot.loc[\"Turkey\"]\n",
    "tu_su"
   ]
  },
  {
   "cell_type": "code",
   "execution_count": null,
   "metadata": {},
   "outputs": [],
   "source": [
    "sa_su = suic_pivot.loc[\"South Africa\"]\n",
    "sa_su"
   ]
  },
  {
   "cell_type": "code",
   "execution_count": null,
   "metadata": {},
   "outputs": [],
   "source": [
    "suic_age_group = suic.groupby(['gender']).mean().round(2)\n",
    "suic_age_group"
   ]
  }
 ]
}