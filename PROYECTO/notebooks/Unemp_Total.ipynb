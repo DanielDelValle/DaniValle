{
 "metadata": {
  "language_info": {
   "codemirror_mode": {
    "name": "ipython",
    "version": 3
   },
   "file_extension": ".py",
   "mimetype": "text/x-python",
   "name": "python",
   "nbconvert_exporter": "python",
   "pygments_lexer": "ipython3",
   "version": "3.9.1-final"
  },
  "orig_nbformat": 2,
  "kernelspec": {
   "name": "python3",
   "display_name": "Python 3.9.1 64-bit",
   "metadata": {
    "interpreter": {
     "hash": "ac59ebe37160ed0dfa835113d9b8498d9f09ceb179beaac4002f036b9467c963"
    }
   }
  }
 },
 "nbformat": 4,
 "nbformat_minor": 2,
 "cells": [
  {
   "cell_type": "code",
   "execution_count": 2,
   "metadata": {},
   "outputs": [],
   "source": [
    "import pandas as pd\n",
    "import numpy as np\n",
    "import seaborn as sns\n",
    "import plotly as po\n",
    "import plotly.express as px\n",
    "import plotly.graph_objs as go\n",
    "\n",
    "from counlist import countrylist\n",
    "\n",
    "unemployment = pd.read_csv(\"..\\\\documentation\\\\unemployment_all_ratio.csv\")\n",
    "\n",
    "\n",
    "unemp = unemployment.loc[unemployment[\"Country\"].isin(countrylist)]                              \n",
    "\n",
    "unemp = unemp.loc[unemployment['Series'] == \"Unemployment rate\"]                                 \n",
    "unemp = unemp[~unemp.Country.str.contains(\"Euro\", na=False)]                                     \n",
    "unemp = unemp[~unemp.Country.str.contains(\"OECD\", na=False)]  \n",
    "\n",
    "unemp = unemp.rename(columns={'SEX': 'Gender', 'Value':'Unemploy_Rate', \"Time\": \"Year\"})         \n",
    "unemp = unemp[['Country', 'Gender', 'Age', 'Year', 'Unemploy_Rate']]                             \n",
    "\n",
    "unemp.columns = [x.lower() for x in unemp.columns]                                               \n",
    "unemp = unemp[unemp['year'] <= 2016]                                                                                      \n",
    "\n",
    "unemp.drop(unemp[unemp.gender == 'MW'].index, inplace=True)                                                        \n",
    "unemp.loc[unemp['gender'] == \"MEN\", 'gender'] = \"male\"                                           \n",
    "unemp.loc[unemp['gender'] == \"WOMEN\", 'gender'] = \"female\"                                                     \n",
    "\n",
    "unemp['age'] = unemp['age'].str.replace(' to ', '-')                                            \n",
    "\n",
    "\n",
    "unemp = unemp[(unemp['age'] == '15-24') | (unemp['age'] == '25-34') |(unemp['age'] == '35-44') |(unemp['age'] == '45-54') | (unemp['age'] == '55-64') |(unemp['age'] == '65-69') | (unemp['age'] == '70-74')]                                                                                                                           "
   ]
  },
  {
   "cell_type": "code",
   "execution_count": 3,
   "metadata": {},
   "outputs": [],
   "source": [
    "unemp.loc[(unemp[\"age\"] == '35-44') | (unemp[\"age\"] == '45-54'), 'age'] = '35-54'                                   \n",
    "unemp.loc[(unemp[\"age\"] == '55-64') | (unemp[\"age\"] == '65-69') | (unemp[\"age\"] == '70-74'), 'age'] = \"55-74\""
   ]
  },
  {
   "cell_type": "code",
   "execution_count": 4,
   "metadata": {},
   "outputs": [],
   "source": [
    "aggregation_functions = {'unemploy_rate': 'mean'}"
   ]
  },
  {
   "cell_type": "code",
   "execution_count": 5,
   "metadata": {},
   "outputs": [
    {
     "output_type": "execute_result",
     "data": {
      "text/plain": [
       "       unemploy_rate\n",
       "age                 \n",
       "15-24          18.68\n",
       "25-34           9.07\n",
       "35-54           6.37\n",
       "55-74           3.06"
      ],
      "text/html": "<div>\n<style scoped>\n    .dataframe tbody tr th:only-of-type {\n        vertical-align: middle;\n    }\n\n    .dataframe tbody tr th {\n        vertical-align: top;\n    }\n\n    .dataframe thead th {\n        text-align: right;\n    }\n</style>\n<table border=\"1\" class=\"dataframe\">\n  <thead>\n    <tr style=\"text-align: right;\">\n      <th></th>\n      <th>unemploy_rate</th>\n    </tr>\n    <tr>\n      <th>age</th>\n      <th></th>\n    </tr>\n  </thead>\n  <tbody>\n    <tr>\n      <th>15-24</th>\n      <td>18.68</td>\n    </tr>\n    <tr>\n      <th>25-34</th>\n      <td>9.07</td>\n    </tr>\n    <tr>\n      <th>35-54</th>\n      <td>6.37</td>\n    </tr>\n    <tr>\n      <th>55-74</th>\n      <td>3.06</td>\n    </tr>\n  </tbody>\n</table>\n</div>"
     },
     "metadata": {},
     "execution_count": 5
    }
   ],
   "source": [
    "unemp_ages_mean = unemp.groupby('age').aggregate(aggregation_functions).sort_values(\"unemploy_rate\", ascending=False).round(2)\n",
    "unemp_ages_mean"
   ]
  },
  {
   "cell_type": "code",
   "execution_count": 6,
   "metadata": {},
   "outputs": [
    {
     "output_type": "execute_result",
     "data": {
      "text/plain": [
       "                    unemploy_rate\n",
       "country                          \n",
       "South Africa                21.29\n",
       "Spain                       13.78\n",
       "Greece                      13.37\n",
       "Croatia                     11.40\n",
       "Poland                      10.82\n",
       "Bulgaria                    10.46\n",
       "Latvia                      10.28\n",
       "Lithuania                    9.75\n",
       "Colombia                     9.64\n",
       "Italy                        9.07\n",
       "Estonia                      8.42\n",
       "Portugal                     8.29\n",
       "Chile                        7.91\n",
       "Russian Federation           7.74\n",
       "Finland                      7.73\n",
       "France                       7.66\n",
       "Israel                       7.38\n",
       "Turkey                       7.14\n",
       "Brazil                       7.05\n",
       "Hungary                      6.90\n",
       "Belgium                      6.83\n",
       "Cyprus                       6.59\n",
       "Czech Republic               6.45\n",
       "Sweden                       6.39\n",
       "Costa Rica                   6.24\n",
       "Ireland                      6.20\n",
       "Canada                       6.19\n",
       "Romania                      6.03\n",
       "United Kingdom               6.03\n",
       "Germany                      5.89\n",
       "Slovenia                     5.79\n",
       "Malta                        4.96\n",
       "Australia                    4.96\n",
       "Netherlands                  4.77\n",
       "Luxembourg                   4.59\n",
       "New Zealand                  4.39\n",
       "Denmark                      4.37\n",
       "Japan                        4.20\n",
       "Iceland                      3.93\n",
       "Austria                      3.86\n",
       "Switzerland                  3.40\n",
       "Norway                       3.09\n",
       "Mexico                       3.07"
      ],
      "text/html": "<div>\n<style scoped>\n    .dataframe tbody tr th:only-of-type {\n        vertical-align: middle;\n    }\n\n    .dataframe tbody tr th {\n        vertical-align: top;\n    }\n\n    .dataframe thead th {\n        text-align: right;\n    }\n</style>\n<table border=\"1\" class=\"dataframe\">\n  <thead>\n    <tr style=\"text-align: right;\">\n      <th></th>\n      <th>unemploy_rate</th>\n    </tr>\n    <tr>\n      <th>country</th>\n      <th></th>\n    </tr>\n  </thead>\n  <tbody>\n    <tr>\n      <th>South Africa</th>\n      <td>21.29</td>\n    </tr>\n    <tr>\n      <th>Spain</th>\n      <td>13.78</td>\n    </tr>\n    <tr>\n      <th>Greece</th>\n      <td>13.37</td>\n    </tr>\n    <tr>\n      <th>Croatia</th>\n      <td>11.40</td>\n    </tr>\n    <tr>\n      <th>Poland</th>\n      <td>10.82</td>\n    </tr>\n    <tr>\n      <th>Bulgaria</th>\n      <td>10.46</td>\n    </tr>\n    <tr>\n      <th>Latvia</th>\n      <td>10.28</td>\n    </tr>\n    <tr>\n      <th>Lithuania</th>\n      <td>9.75</td>\n    </tr>\n    <tr>\n      <th>Colombia</th>\n      <td>9.64</td>\n    </tr>\n    <tr>\n      <th>Italy</th>\n      <td>9.07</td>\n    </tr>\n    <tr>\n      <th>Estonia</th>\n      <td>8.42</td>\n    </tr>\n    <tr>\n      <th>Portugal</th>\n      <td>8.29</td>\n    </tr>\n    <tr>\n      <th>Chile</th>\n      <td>7.91</td>\n    </tr>\n    <tr>\n      <th>Russian Federation</th>\n      <td>7.74</td>\n    </tr>\n    <tr>\n      <th>Finland</th>\n      <td>7.73</td>\n    </tr>\n    <tr>\n      <th>France</th>\n      <td>7.66</td>\n    </tr>\n    <tr>\n      <th>Israel</th>\n      <td>7.38</td>\n    </tr>\n    <tr>\n      <th>Turkey</th>\n      <td>7.14</td>\n    </tr>\n    <tr>\n      <th>Brazil</th>\n      <td>7.05</td>\n    </tr>\n    <tr>\n      <th>Hungary</th>\n      <td>6.90</td>\n    </tr>\n    <tr>\n      <th>Belgium</th>\n      <td>6.83</td>\n    </tr>\n    <tr>\n      <th>Cyprus</th>\n      <td>6.59</td>\n    </tr>\n    <tr>\n      <th>Czech Republic</th>\n      <td>6.45</td>\n    </tr>\n    <tr>\n      <th>Sweden</th>\n      <td>6.39</td>\n    </tr>\n    <tr>\n      <th>Costa Rica</th>\n      <td>6.24</td>\n    </tr>\n    <tr>\n      <th>Ireland</th>\n      <td>6.20</td>\n    </tr>\n    <tr>\n      <th>Canada</th>\n      <td>6.19</td>\n    </tr>\n    <tr>\n      <th>Romania</th>\n      <td>6.03</td>\n    </tr>\n    <tr>\n      <th>United Kingdom</th>\n      <td>6.03</td>\n    </tr>\n    <tr>\n      <th>Germany</th>\n      <td>5.89</td>\n    </tr>\n    <tr>\n      <th>Slovenia</th>\n      <td>5.79</td>\n    </tr>\n    <tr>\n      <th>Malta</th>\n      <td>4.96</td>\n    </tr>\n    <tr>\n      <th>Australia</th>\n      <td>4.96</td>\n    </tr>\n    <tr>\n      <th>Netherlands</th>\n      <td>4.77</td>\n    </tr>\n    <tr>\n      <th>Luxembourg</th>\n      <td>4.59</td>\n    </tr>\n    <tr>\n      <th>New Zealand</th>\n      <td>4.39</td>\n    </tr>\n    <tr>\n      <th>Denmark</th>\n      <td>4.37</td>\n    </tr>\n    <tr>\n      <th>Japan</th>\n      <td>4.20</td>\n    </tr>\n    <tr>\n      <th>Iceland</th>\n      <td>3.93</td>\n    </tr>\n    <tr>\n      <th>Austria</th>\n      <td>3.86</td>\n    </tr>\n    <tr>\n      <th>Switzerland</th>\n      <td>3.40</td>\n    </tr>\n    <tr>\n      <th>Norway</th>\n      <td>3.09</td>\n    </tr>\n    <tr>\n      <th>Mexico</th>\n      <td>3.07</td>\n    </tr>\n  </tbody>\n</table>\n</div>"
     },
     "metadata": {},
     "execution_count": 6
    }
   ],
   "source": [
    "unemp_countries_mean = unemp.groupby('country').aggregate(aggregation_functions).sort_values(\"unemploy_rate\", ascending=False).round(2)\n",
    "unemp_countries_mean"
   ]
  },
  {
   "cell_type": "code",
   "execution_count": 7,
   "metadata": {},
   "outputs": [],
   "source": [
    "most_unemp = unemp_countries_mean.sort_values(\"unemploy_rate\", ascending=False).round(2).head(5)\n",
    "least_unemp = unemp_countries_mean.sort_values(\"unemploy_rate\", ascending=False).round(2).tail(5)"
   ]
  },
  {
   "cell_type": "code",
   "execution_count": 8,
   "metadata": {},
   "outputs": [
    {
     "output_type": "stream",
     "name": "stdout",
     "text": [
      "              unemploy_rate\ncountry                    \nSouth Africa          21.29\nSpain                 13.78\nGreece                13.37\nCroatia               11.40\nPoland                10.82\n             unemploy_rate\ncountry                   \nIceland               3.93\nAustria               3.86\nSwitzerland           3.40\nNorway                3.09\nMexico                3.07\n"
     ]
    }
   ],
   "source": [
    "print(most_unemp)\n",
    "print(least_unemp)"
   ]
  },
  {
   "cell_type": "code",
   "execution_count": 9,
   "metadata": {},
   "outputs": [
    {
     "output_type": "execute_result",
     "data": {
      "text/plain": [
       "                            unemploy_rate\n",
       "country        year gender               \n",
       "Australia      2000 female           4.99\n",
       "                    male             5.87\n",
       "               2001 female           5.35\n",
       "                    male             6.40\n",
       "               2002 female           5.16\n",
       "...                                   ...\n",
       "United Kingdom 2014 male             6.75\n",
       "               2015 female           4.97\n",
       "                    male             5.58\n",
       "               2016 female           4.71\n",
       "                    male             5.17\n",
       "\n",
       "[1448 rows x 1 columns]"
      ],
      "text/html": "<div>\n<style scoped>\n    .dataframe tbody tr th:only-of-type {\n        vertical-align: middle;\n    }\n\n    .dataframe tbody tr th {\n        vertical-align: top;\n    }\n\n    .dataframe thead th {\n        text-align: right;\n    }\n</style>\n<table border=\"1\" class=\"dataframe\">\n  <thead>\n    <tr style=\"text-align: right;\">\n      <th></th>\n      <th></th>\n      <th></th>\n      <th>unemploy_rate</th>\n    </tr>\n    <tr>\n      <th>country</th>\n      <th>year</th>\n      <th>gender</th>\n      <th></th>\n    </tr>\n  </thead>\n  <tbody>\n    <tr>\n      <th rowspan=\"5\" valign=\"top\">Australia</th>\n      <th rowspan=\"2\" valign=\"top\">2000</th>\n      <th>female</th>\n      <td>4.99</td>\n    </tr>\n    <tr>\n      <th>male</th>\n      <td>5.87</td>\n    </tr>\n    <tr>\n      <th rowspan=\"2\" valign=\"top\">2001</th>\n      <th>female</th>\n      <td>5.35</td>\n    </tr>\n    <tr>\n      <th>male</th>\n      <td>6.40</td>\n    </tr>\n    <tr>\n      <th>2002</th>\n      <th>female</th>\n      <td>5.16</td>\n    </tr>\n    <tr>\n      <th>...</th>\n      <th>...</th>\n      <th>...</th>\n      <td>...</td>\n    </tr>\n    <tr>\n      <th rowspan=\"5\" valign=\"top\">United Kingdom</th>\n      <th>2014</th>\n      <th>male</th>\n      <td>6.75</td>\n    </tr>\n    <tr>\n      <th rowspan=\"2\" valign=\"top\">2015</th>\n      <th>female</th>\n      <td>4.97</td>\n    </tr>\n    <tr>\n      <th>male</th>\n      <td>5.58</td>\n    </tr>\n    <tr>\n      <th rowspan=\"2\" valign=\"top\">2016</th>\n      <th>female</th>\n      <td>4.71</td>\n    </tr>\n    <tr>\n      <th>male</th>\n      <td>5.17</td>\n    </tr>\n  </tbody>\n</table>\n<p>1448 rows × 1 columns</p>\n</div>"
     },
     "metadata": {},
     "execution_count": 9
    }
   ],
   "source": [
    "unemp_pivot_mean_gndr = pd.pivot_table(unemp, index = ['country', 'year', 'gender'], values = ['unemploy_rate']).round(2)\n",
    "unemp_pivot_mean_gndr"
   ]
  },
  {
   "cell_type": "code",
   "execution_count": 10,
   "metadata": {},
   "outputs": [
    {
     "output_type": "execute_result",
     "data": {
      "text/plain": [
       "                     unemploy_rate\n",
       "country        year               \n",
       "Australia      2000           5.43\n",
       "               2001           5.88\n",
       "               2002           5.51\n",
       "               2003           5.15\n",
       "               2004           4.78\n",
       "...                            ...\n",
       "United Kingdom 2012           7.72\n",
       "               2013           7.41\n",
       "               2014           6.29\n",
       "               2015           5.27\n",
       "               2016           4.94\n",
       "\n",
       "[724 rows x 1 columns]"
      ],
      "text/html": "<div>\n<style scoped>\n    .dataframe tbody tr th:only-of-type {\n        vertical-align: middle;\n    }\n\n    .dataframe tbody tr th {\n        vertical-align: top;\n    }\n\n    .dataframe thead th {\n        text-align: right;\n    }\n</style>\n<table border=\"1\" class=\"dataframe\">\n  <thead>\n    <tr style=\"text-align: right;\">\n      <th></th>\n      <th></th>\n      <th>unemploy_rate</th>\n    </tr>\n    <tr>\n      <th>country</th>\n      <th>year</th>\n      <th></th>\n    </tr>\n  </thead>\n  <tbody>\n    <tr>\n      <th rowspan=\"5\" valign=\"top\">Australia</th>\n      <th>2000</th>\n      <td>5.43</td>\n    </tr>\n    <tr>\n      <th>2001</th>\n      <td>5.88</td>\n    </tr>\n    <tr>\n      <th>2002</th>\n      <td>5.51</td>\n    </tr>\n    <tr>\n      <th>2003</th>\n      <td>5.15</td>\n    </tr>\n    <tr>\n      <th>2004</th>\n      <td>4.78</td>\n    </tr>\n    <tr>\n      <th>...</th>\n      <th>...</th>\n      <td>...</td>\n    </tr>\n    <tr>\n      <th rowspan=\"5\" valign=\"top\">United Kingdom</th>\n      <th>2012</th>\n      <td>7.72</td>\n    </tr>\n    <tr>\n      <th>2013</th>\n      <td>7.41</td>\n    </tr>\n    <tr>\n      <th>2014</th>\n      <td>6.29</td>\n    </tr>\n    <tr>\n      <th>2015</th>\n      <td>5.27</td>\n    </tr>\n    <tr>\n      <th>2016</th>\n      <td>4.94</td>\n    </tr>\n  </tbody>\n</table>\n<p>724 rows × 1 columns</p>\n</div>"
     },
     "metadata": {},
     "execution_count": 10
    }
   ],
   "source": [
    "unemp_pivot_mean = pd.pivot_table(unemp, index = ['country', 'year'], values = ['unemploy_rate']).round(2)\n",
    "unemp_pivot_mean"
   ]
  },
  {
   "cell_type": "code",
   "execution_count": 11,
   "metadata": {},
   "outputs": [
    {
     "output_type": "execute_result",
     "data": {
      "text/plain": [
       "             unemploy_rate\n",
       "year gender               \n",
       "2000 female          15.31\n",
       "     male             8.64\n",
       "2001 female          11.21\n",
       "     male             6.74\n",
       "2002 female          11.88\n",
       "     male             6.83\n",
       "2003 female          12.13\n",
       "     male             7.04\n",
       "2004 female          11.34\n",
       "     male             6.84\n",
       "2005 female          10.02\n",
       "     male             6.17\n",
       "2006 female           9.15\n",
       "     male             5.49\n",
       "2007 female           8.84\n",
       "     male             5.50\n",
       "2008 female          10.85\n",
       "     male             8.31\n",
       "2009 female          14.87\n",
       "     male            14.61\n",
       "2010 female          15.99\n",
       "     male            16.75\n",
       "2011 female          17.92\n",
       "     male            18.05\n",
       "2012 female          21.23\n",
       "     male            21.03\n",
       "2013 female          22.90\n",
       "     male            22.53\n",
       "2014 female          22.12\n",
       "     male            21.33\n",
       "2015 female          20.03\n",
       "     male            19.00\n",
       "2016 female          19.16\n",
       "     male            17.09"
      ],
      "text/html": "<div>\n<style scoped>\n    .dataframe tbody tr th:only-of-type {\n        vertical-align: middle;\n    }\n\n    .dataframe tbody tr th {\n        vertical-align: top;\n    }\n\n    .dataframe thead th {\n        text-align: right;\n    }\n</style>\n<table border=\"1\" class=\"dataframe\">\n  <thead>\n    <tr style=\"text-align: right;\">\n      <th></th>\n      <th></th>\n      <th>unemploy_rate</th>\n    </tr>\n    <tr>\n      <th>year</th>\n      <th>gender</th>\n      <th></th>\n    </tr>\n  </thead>\n  <tbody>\n    <tr>\n      <th rowspan=\"2\" valign=\"top\">2000</th>\n      <th>female</th>\n      <td>15.31</td>\n    </tr>\n    <tr>\n      <th>male</th>\n      <td>8.64</td>\n    </tr>\n    <tr>\n      <th rowspan=\"2\" valign=\"top\">2001</th>\n      <th>female</th>\n      <td>11.21</td>\n    </tr>\n    <tr>\n      <th>male</th>\n      <td>6.74</td>\n    </tr>\n    <tr>\n      <th rowspan=\"2\" valign=\"top\">2002</th>\n      <th>female</th>\n      <td>11.88</td>\n    </tr>\n    <tr>\n      <th>male</th>\n      <td>6.83</td>\n    </tr>\n    <tr>\n      <th rowspan=\"2\" valign=\"top\">2003</th>\n      <th>female</th>\n      <td>12.13</td>\n    </tr>\n    <tr>\n      <th>male</th>\n      <td>7.04</td>\n    </tr>\n    <tr>\n      <th rowspan=\"2\" valign=\"top\">2004</th>\n      <th>female</th>\n      <td>11.34</td>\n    </tr>\n    <tr>\n      <th>male</th>\n      <td>6.84</td>\n    </tr>\n    <tr>\n      <th rowspan=\"2\" valign=\"top\">2005</th>\n      <th>female</th>\n      <td>10.02</td>\n    </tr>\n    <tr>\n      <th>male</th>\n      <td>6.17</td>\n    </tr>\n    <tr>\n      <th rowspan=\"2\" valign=\"top\">2006</th>\n      <th>female</th>\n      <td>9.15</td>\n    </tr>\n    <tr>\n      <th>male</th>\n      <td>5.49</td>\n    </tr>\n    <tr>\n      <th rowspan=\"2\" valign=\"top\">2007</th>\n      <th>female</th>\n      <td>8.84</td>\n    </tr>\n    <tr>\n      <th>male</th>\n      <td>5.50</td>\n    </tr>\n    <tr>\n      <th rowspan=\"2\" valign=\"top\">2008</th>\n      <th>female</th>\n      <td>10.85</td>\n    </tr>\n    <tr>\n      <th>male</th>\n      <td>8.31</td>\n    </tr>\n    <tr>\n      <th rowspan=\"2\" valign=\"top\">2009</th>\n      <th>female</th>\n      <td>14.87</td>\n    </tr>\n    <tr>\n      <th>male</th>\n      <td>14.61</td>\n    </tr>\n    <tr>\n      <th rowspan=\"2\" valign=\"top\">2010</th>\n      <th>female</th>\n      <td>15.99</td>\n    </tr>\n    <tr>\n      <th>male</th>\n      <td>16.75</td>\n    </tr>\n    <tr>\n      <th rowspan=\"2\" valign=\"top\">2011</th>\n      <th>female</th>\n      <td>17.92</td>\n    </tr>\n    <tr>\n      <th>male</th>\n      <td>18.05</td>\n    </tr>\n    <tr>\n      <th rowspan=\"2\" valign=\"top\">2012</th>\n      <th>female</th>\n      <td>21.23</td>\n    </tr>\n    <tr>\n      <th>male</th>\n      <td>21.03</td>\n    </tr>\n    <tr>\n      <th rowspan=\"2\" valign=\"top\">2013</th>\n      <th>female</th>\n      <td>22.90</td>\n    </tr>\n    <tr>\n      <th>male</th>\n      <td>22.53</td>\n    </tr>\n    <tr>\n      <th rowspan=\"2\" valign=\"top\">2014</th>\n      <th>female</th>\n      <td>22.12</td>\n    </tr>\n    <tr>\n      <th>male</th>\n      <td>21.33</td>\n    </tr>\n    <tr>\n      <th rowspan=\"2\" valign=\"top\">2015</th>\n      <th>female</th>\n      <td>20.03</td>\n    </tr>\n    <tr>\n      <th>male</th>\n      <td>19.00</td>\n    </tr>\n    <tr>\n      <th rowspan=\"2\" valign=\"top\">2016</th>\n      <th>female</th>\n      <td>19.16</td>\n    </tr>\n    <tr>\n      <th>male</th>\n      <td>17.09</td>\n    </tr>\n  </tbody>\n</table>\n</div>"
     },
     "metadata": {},
     "execution_count": 11
    }
   ],
   "source": [
    "sp_un = unemp_pivot_mean_gndr.loc[\"Spain\"]                   #unemployment evolution in Spain per gender : tendency is to equal\n",
    "sp_un"
   ]
  },
  {
   "cell_type": "code",
   "execution_count": 12,
   "metadata": {},
   "outputs": [
    {
     "output_type": "execute_result",
     "data": {
      "text/plain": [
       "      unemploy_rate\n",
       "year               \n",
       "2000           3.57\n",
       "2001           3.53\n",
       "2002           3.15\n",
       "2003           3.58\n",
       "2004           3.46\n",
       "2005           3.67\n",
       "2006           2.94\n",
       "2007           2.21\n",
       "2008           2.12\n",
       "2009           2.91\n",
       "2010           3.04\n",
       "2011           2.73\n",
       "2012           2.59\n",
       "2013           2.83\n",
       "2014           2.86\n",
       "2015           3.50\n",
       "2016           3.89"
      ],
      "text/html": "<div>\n<style scoped>\n    .dataframe tbody tr th:only-of-type {\n        vertical-align: middle;\n    }\n\n    .dataframe tbody tr th {\n        vertical-align: top;\n    }\n\n    .dataframe thead th {\n        text-align: right;\n    }\n</style>\n<table border=\"1\" class=\"dataframe\">\n  <thead>\n    <tr style=\"text-align: right;\">\n      <th></th>\n      <th>unemploy_rate</th>\n    </tr>\n    <tr>\n      <th>year</th>\n      <th></th>\n    </tr>\n  </thead>\n  <tbody>\n    <tr>\n      <th>2000</th>\n      <td>3.57</td>\n    </tr>\n    <tr>\n      <th>2001</th>\n      <td>3.53</td>\n    </tr>\n    <tr>\n      <th>2002</th>\n      <td>3.15</td>\n    </tr>\n    <tr>\n      <th>2003</th>\n      <td>3.58</td>\n    </tr>\n    <tr>\n      <th>2004</th>\n      <td>3.46</td>\n    </tr>\n    <tr>\n      <th>2005</th>\n      <td>3.67</td>\n    </tr>\n    <tr>\n      <th>2006</th>\n      <td>2.94</td>\n    </tr>\n    <tr>\n      <th>2007</th>\n      <td>2.21</td>\n    </tr>\n    <tr>\n      <th>2008</th>\n      <td>2.12</td>\n    </tr>\n    <tr>\n      <th>2009</th>\n      <td>2.91</td>\n    </tr>\n    <tr>\n      <th>2010</th>\n      <td>3.04</td>\n    </tr>\n    <tr>\n      <th>2011</th>\n      <td>2.73</td>\n    </tr>\n    <tr>\n      <th>2012</th>\n      <td>2.59</td>\n    </tr>\n    <tr>\n      <th>2013</th>\n      <td>2.83</td>\n    </tr>\n    <tr>\n      <th>2014</th>\n      <td>2.86</td>\n    </tr>\n    <tr>\n      <th>2015</th>\n      <td>3.50</td>\n    </tr>\n    <tr>\n      <th>2016</th>\n      <td>3.89</td>\n    </tr>\n  </tbody>\n</table>\n</div>"
     },
     "metadata": {},
     "execution_count": 12
    }
   ],
   "source": [
    "nw_un = unemp_pivot_mean.loc[\"Norway\"]\n",
    "nw_un"
   ]
  },
  {
   "cell_type": "code",
   "execution_count": 13,
   "metadata": {},
   "outputs": [
    {
     "output_type": "execute_result",
     "data": {
      "text/plain": [
       "      unemploy_rate\n",
       "year               \n",
       "2001          22.99\n",
       "2002          24.65\n",
       "2003          24.74\n",
       "2004          22.58\n",
       "2005          21.89\n",
       "2006          20.64\n",
       "2007          20.59\n",
       "2008          18.43\n",
       "2009          19.37\n",
       "2010          20.39\n",
       "2011          20.22\n",
       "2012          20.63\n",
       "2013          20.66\n",
       "2014          20.90\n",
       "2015          21.24\n",
       "2016          22.27"
      ],
      "text/html": "<div>\n<style scoped>\n    .dataframe tbody tr th:only-of-type {\n        vertical-align: middle;\n    }\n\n    .dataframe tbody tr th {\n        vertical-align: top;\n    }\n\n    .dataframe thead th {\n        text-align: right;\n    }\n</style>\n<table border=\"1\" class=\"dataframe\">\n  <thead>\n    <tr style=\"text-align: right;\">\n      <th></th>\n      <th>unemploy_rate</th>\n    </tr>\n    <tr>\n      <th>year</th>\n      <th></th>\n    </tr>\n  </thead>\n  <tbody>\n    <tr>\n      <th>2001</th>\n      <td>22.99</td>\n    </tr>\n    <tr>\n      <th>2002</th>\n      <td>24.65</td>\n    </tr>\n    <tr>\n      <th>2003</th>\n      <td>24.74</td>\n    </tr>\n    <tr>\n      <th>2004</th>\n      <td>22.58</td>\n    </tr>\n    <tr>\n      <th>2005</th>\n      <td>21.89</td>\n    </tr>\n    <tr>\n      <th>2006</th>\n      <td>20.64</td>\n    </tr>\n    <tr>\n      <th>2007</th>\n      <td>20.59</td>\n    </tr>\n    <tr>\n      <th>2008</th>\n      <td>18.43</td>\n    </tr>\n    <tr>\n      <th>2009</th>\n      <td>19.37</td>\n    </tr>\n    <tr>\n      <th>2010</th>\n      <td>20.39</td>\n    </tr>\n    <tr>\n      <th>2011</th>\n      <td>20.22</td>\n    </tr>\n    <tr>\n      <th>2012</th>\n      <td>20.63</td>\n    </tr>\n    <tr>\n      <th>2013</th>\n      <td>20.66</td>\n    </tr>\n    <tr>\n      <th>2014</th>\n      <td>20.90</td>\n    </tr>\n    <tr>\n      <th>2015</th>\n      <td>21.24</td>\n    </tr>\n    <tr>\n      <th>2016</th>\n      <td>22.27</td>\n    </tr>\n  </tbody>\n</table>\n</div>"
     },
     "metadata": {},
     "execution_count": 13
    }
   ],
   "source": [
    "sa_un = unemp_pivot_mean.loc[\"South Africa\"]\n",
    "sa_un"
   ]
  },
  {
   "cell_type": "code",
   "execution_count": 14,
   "metadata": {},
   "outputs": [
    {
     "output_type": "execute_result",
     "data": {
      "text/plain": [
       "           year  unemploy_rate\n",
       "gender                        \n",
       "female  2008.12           7.44\n",
       "male    2008.10           7.02"
      ],
      "text/html": "<div>\n<style scoped>\n    .dataframe tbody tr th:only-of-type {\n        vertical-align: middle;\n    }\n\n    .dataframe tbody tr th {\n        vertical-align: top;\n    }\n\n    .dataframe thead th {\n        text-align: right;\n    }\n</style>\n<table border=\"1\" class=\"dataframe\">\n  <thead>\n    <tr style=\"text-align: right;\">\n      <th></th>\n      <th>year</th>\n      <th>unemploy_rate</th>\n    </tr>\n    <tr>\n      <th>gender</th>\n      <th></th>\n      <th></th>\n    </tr>\n  </thead>\n  <tbody>\n    <tr>\n      <th>female</th>\n      <td>2008.12</td>\n      <td>7.44</td>\n    </tr>\n    <tr>\n      <th>male</th>\n      <td>2008.10</td>\n      <td>7.02</td>\n    </tr>\n  </tbody>\n</table>\n</div>"
     },
     "metadata": {},
     "execution_count": 14
    }
   ],
   "source": [
    "unemp_age_group = unemp.groupby(['gender']).mean().round(2)\n",
    "unemp_age_group"
   ]
  },
  {
   "cell_type": "code",
   "execution_count": 14,
   "metadata": {},
   "outputs": [],
   "source": [
    "\n"
   ]
  }
 ]
}